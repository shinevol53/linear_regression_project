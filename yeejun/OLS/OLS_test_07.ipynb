{
 "cells": [
  {
   "cell_type": "code",
   "execution_count": 46,
   "metadata": {},
   "outputs": [],
   "source": [
    "import seaborn as sns\n",
    "import pandas as pd\n",
    "import re\n",
    "import matplotlib as mpl\n",
    "from matplotlib import rc\n",
    "import missingno as msno\n",
    "import warnings\n",
    "import datetime\n",
    "import matplotlib.pyplot as plt\n",
    "import statsmodels.api as sm\n",
    "warnings.filterwarnings('ignore')\n",
    "\n",
    "# matplotlib 한글 사용을 위한 코드\n",
    "rc('font', family='AppleGothic')"
   ]
  },
  {
   "cell_type": "code",
   "execution_count": 47,
   "metadata": {},
   "outputs": [],
   "source": [
    "final_df = pd.read_csv('../../final_df_13/final_df_13.csv').drop(columns='Unnamed: 0')\n",
    "X_train = pd.read_csv('../../final_df_13/X_train_13.csv').drop(columns='Unnamed: 0')\n",
    "y_train = pd.read_csv('../../final_df_13/y_train_13.csv').drop(columns='Unnamed: 0')\n",
    "X_test = pd.read_csv('../../final_df_13/X_test_13.csv').drop(columns='Unnamed: 0')\n",
    "y_test = pd.read_csv('../../final_df_13/y_test_13.csv').drop(columns='Unnamed: 0')"
   ]
  },
  {
   "cell_type": "code",
   "execution_count": 48,
   "metadata": {},
   "outputs": [
    {
     "name": "stdout",
     "output_type": "stream",
     "text": [
      "<class 'pandas.core.frame.DataFrame'>\n",
      "RangeIndex: 925 entries, 0 to 924\n",
      "Data columns (total 35 columns):\n",
      " #   Column                Non-Null Count  Dtype  \n",
      "---  ------                --------------  -----  \n",
      " 0   title                 925 non-null    object \n",
      " 1   director              925 non-null    object \n",
      " 2   distributor           925 non-null    object \n",
      " 3   distributor_group     925 non-null    object \n",
      " 4   release_date          925 non-null    int64  \n",
      " 5   release_season        925 non-null    object \n",
      " 6   release               925 non-null    object \n",
      " 7   form                  925 non-null    object \n",
      " 8   nation                925 non-null    object \n",
      " 9   screen                925 non-null    int64  \n",
      " 10  rev_nationwide        925 non-null    float64\n",
      " 11  aud_nationwide        925 non-null    int64  \n",
      " 12  rev_seoul             925 non-null    int64  \n",
      " 13  rev_seoul.1           925 non-null    int64  \n",
      " 14  genre                 925 non-null    object \n",
      " 15  rate                  925 non-null    object \n",
      " 16  type                  925 non-null    object \n",
      " 17  expert_rating         925 non-null    float64\n",
      " 18  starring_actors       925 non-null    object \n",
      " 19  running_times         925 non-null    int64  \n",
      " 20  audience_rating       925 non-null    float64\n",
      " 21  rating_audiences      925 non-null    int64  \n",
      " 22  realease_year         925 non-null    int64  \n",
      " 23  director_power        925 non-null    int64  \n",
      " 24  sequel                925 non-null    int64  \n",
      " 25  original              925 non-null    int64  \n",
      " 26  actor_power           925 non-null    int64  \n",
      " 27  director_count        925 non-null    int64  \n",
      " 28  director_movie_count  925 non-null    int64  \n",
      " 29  actor_movie_count     925 non-null    int64  \n",
      " 30  log_aud               925 non-null    float64\n",
      " 31  before_news           925 non-null    float64\n",
      " 32  after_news            925 non-null    float64\n",
      " 33  holiday               925 non-null    int64  \n",
      " 34  dist_cat              925 non-null    object \n",
      "dtypes: float64(6), int64(16), object(13)\n",
      "memory usage: 253.1+ KB\n"
     ]
    }
   ],
   "source": [
    "final_df.info()"
   ]
  },
  {
   "cell_type": "code",
   "execution_count": 50,
   "metadata": {},
   "outputs": [
    {
     "data": {
      "text/plain": [
       "(740, 185, 740, 185)"
      ]
     },
     "execution_count": 50,
     "metadata": {},
     "output_type": "execute_result"
    }
   ],
   "source": [
    "len(X_train), len(X_test), len(y_train), len(y_test),"
   ]
  },
  {
   "cell_type": "code",
   "execution_count": 51,
   "metadata": {},
   "outputs": [],
   "source": [
    "df = pd.concat([X_train, y_train], axis=1)"
   ]
  },
  {
   "cell_type": "code",
   "execution_count": 52,
   "metadata": {},
   "outputs": [
    {
     "data": {
      "text/html": [
       "<div>\n",
       "<style scoped>\n",
       "    .dataframe tbody tr th:only-of-type {\n",
       "        vertical-align: middle;\n",
       "    }\n",
       "\n",
       "    .dataframe tbody tr th {\n",
       "        vertical-align: top;\n",
       "    }\n",
       "\n",
       "    .dataframe thead th {\n",
       "        text-align: right;\n",
       "    }\n",
       "</style>\n",
       "<table border=\"1\" class=\"dataframe\">\n",
       "  <thead>\n",
       "    <tr style=\"text-align: right;\">\n",
       "      <th></th>\n",
       "      <th>title</th>\n",
       "      <th>director</th>\n",
       "      <th>distributor</th>\n",
       "      <th>distributor_group</th>\n",
       "      <th>release_date</th>\n",
       "      <th>release_season</th>\n",
       "      <th>release</th>\n",
       "      <th>form</th>\n",
       "      <th>nation</th>\n",
       "      <th>screen</th>\n",
       "      <th>...</th>\n",
       "      <th>actor_power</th>\n",
       "      <th>director_count</th>\n",
       "      <th>director_movie_count</th>\n",
       "      <th>actor_movie_count</th>\n",
       "      <th>before_news</th>\n",
       "      <th>after_news</th>\n",
       "      <th>holiday</th>\n",
       "      <th>dist_cat</th>\n",
       "      <th>aud_nationwide</th>\n",
       "      <th>log_aud</th>\n",
       "    </tr>\n",
       "  </thead>\n",
       "  <tbody>\n",
       "    <tr>\n",
       "      <th>0</th>\n",
       "      <td>인사이드 아웃</td>\n",
       "      <td>피트 닥터</td>\n",
       "      <td>월트디즈니컴퍼니코리아(주)</td>\n",
       "      <td>B</td>\n",
       "      <td>20150709</td>\n",
       "      <td>summer</td>\n",
       "      <td>개봉영화</td>\n",
       "      <td>장편</td>\n",
       "      <td>미국</td>\n",
       "      <td>777</td>\n",
       "      <td>...</td>\n",
       "      <td>0</td>\n",
       "      <td>1</td>\n",
       "      <td>0</td>\n",
       "      <td>0</td>\n",
       "      <td>67.0</td>\n",
       "      <td>352.0</td>\n",
       "      <td>0</td>\n",
       "      <td>B</td>\n",
       "      <td>4968687</td>\n",
       "      <td>15.418666</td>\n",
       "    </tr>\n",
       "  </tbody>\n",
       "</table>\n",
       "<p>1 rows × 35 columns</p>\n",
       "</div>"
      ],
      "text/plain": [
       "     title director     distributor distributor_group  release_date  \\\n",
       "0  인사이드 아웃    피트 닥터  월트디즈니컴퍼니코리아(주)                 B      20150709   \n",
       "\n",
       "  release_season release form nation  screen  ...  actor_power  \\\n",
       "0         summer    개봉영화   장편     미국     777  ...            0   \n",
       "\n",
       "   director_count  director_movie_count actor_movie_count before_news  \\\n",
       "0               1                     0                 0        67.0   \n",
       "\n",
       "  after_news  holiday dist_cat  aud_nationwide    log_aud  \n",
       "0      352.0        0        B         4968687  15.418666  \n",
       "\n",
       "[1 rows x 35 columns]"
      ]
     },
     "execution_count": 52,
     "metadata": {},
     "output_type": "execute_result"
    }
   ],
   "source": [
    "df.head(1)"
   ]
  },
  {
   "cell_type": "code",
   "execution_count": 58,
   "metadata": {},
   "outputs": [
    {
     "data": {
      "text/plain": [
       "Index(['title', 'director', 'distributor', 'distributor_group', 'release_date',\n",
       "       'release_season', 'release', 'form', 'nation', 'screen',\n",
       "       'rev_nationwide', 'rev_seoul', 'rev_seoul.1', 'genre', 'rate', 'type',\n",
       "       'expert_rating', 'starring_actors', 'running_times', 'audience_rating',\n",
       "       'rating_audiences', 'realease_year', 'director_power', 'sequel',\n",
       "       'original', 'actor_power', 'director_count', 'director_movie_count',\n",
       "       'actor_movie_count', 'before_news', 'after_news', 'holiday', 'dist_cat',\n",
       "       'aud_nationwide', 'log_aud'],\n",
       "      dtype='object')"
      ]
     },
     "execution_count": 58,
     "metadata": {},
     "output_type": "execute_result"
    }
   ],
   "source": [
    "df = df.drop(columns=['distributor_group', 'release', 'form', 'rev_nationwide', 'rev_seoul', 'rev_seoul.1', ''])"
   ]
  },
  {
   "cell_type": "code",
   "execution_count": 59,
   "metadata": {},
   "outputs": [
    {
     "data": {
      "text/plain": [
       "0         일반영화\n",
       "1      독립/예술영화\n",
       "2         일반영화\n",
       "3      독립/예술영화\n",
       "4         일반영화\n",
       "        ...   \n",
       "735       일반영화\n",
       "736       일반영화\n",
       "737       일반영화\n",
       "738       일반영화\n",
       "739    독립/예술영화\n",
       "Name: type, Length: 740, dtype: object"
      ]
     },
     "execution_count": 59,
     "metadata": {},
     "output_type": "execute_result"
    }
   ],
   "source": [
    "df['type']"
   ]
  },
  {
   "cell_type": "code",
   "execution_count": null,
   "metadata": {},
   "outputs": [],
   "source": []
  },
  {
   "cell_type": "code",
   "execution_count": null,
   "metadata": {},
   "outputs": [],
   "source": []
  },
  {
   "cell_type": "code",
   "execution_count": null,
   "metadata": {},
   "outputs": [],
   "source": []
  },
  {
   "cell_type": "code",
   "execution_count": null,
   "metadata": {},
   "outputs": [],
   "source": []
  },
  {
   "cell_type": "code",
   "execution_count": null,
   "metadata": {},
   "outputs": [],
   "source": []
  },
  {
   "cell_type": "code",
   "execution_count": null,
   "metadata": {},
   "outputs": [],
   "source": []
  },
  {
   "cell_type": "code",
   "execution_count": null,
   "metadata": {},
   "outputs": [],
   "source": []
  },
  {
   "cell_type": "code",
   "execution_count": null,
   "metadata": {},
   "outputs": [],
   "source": []
  }
 ],
 "metadata": {
  "kernelspec": {
   "display_name": "Python 3",
   "language": "python",
   "name": "python3"
  },
  "language_info": {
   "codemirror_mode": {
    "name": "ipython",
    "version": 3
   },
   "file_extension": ".py",
   "mimetype": "text/x-python",
   "name": "python",
   "nbconvert_exporter": "python",
   "pygments_lexer": "ipython3",
   "version": "3.7.6"
  }
 },
 "nbformat": 4,
 "nbformat_minor": 4
}
