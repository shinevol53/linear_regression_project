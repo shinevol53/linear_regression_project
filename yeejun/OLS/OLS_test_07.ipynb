{
 "cells": [
  {
   "cell_type": "code",
   "execution_count": 33,
   "metadata": {},
   "outputs": [],
   "source": [
    "import seaborn as sns\n",
    "import pandas as pd\n",
    "import re\n",
    "import matplotlib as mpl\n",
    "from matplotlib import rc\n",
    "import missingno as msno\n",
    "import warnings\n",
    "import datetime\n",
    "import matplotlib.pyplot as plt\n",
    "import statsmodels.api as sm\n",
    "warnings.filterwarnings('ignore')\n",
    "\n",
    "# matplotlib 한글 사용을 위한 코드\n",
    "rc('font', family='AppleGothic')"
   ]
  },
  {
   "cell_type": "code",
   "execution_count": 34,
   "metadata": {},
   "outputs": [],
   "source": [
    "final_df = pd.read_csv('../../final_df_12/final_df_12.csv').drop(columns='Unnamed: 0')\n",
    "X_train = pd.read_csv('../../final_df_12/X_train12.csv').drop(columns='Unnamed: 0')\n",
    "y_train = pd.read_csv('../../final_df_12/y_train12.csv').drop(columns='Unnamed: 0')\n",
    "X_test = pd.read_csv('../../final_df_12/X_test12.csv').drop(columns='Unnamed: 0')\n",
    "y_test = pd.read_csv('../../final_df_12/y_test12.csv').drop(columns='Unnamed: 0')"
   ]
  },
  {
   "cell_type": "code",
   "execution_count": 35,
   "metadata": {},
   "outputs": [
    {
     "name": "stdout",
     "output_type": "stream",
     "text": [
      "<class 'pandas.core.frame.DataFrame'>\n",
      "RangeIndex: 925 entries, 0 to 924\n",
      "Data columns (total 33 columns):\n",
      " #   Column                Non-Null Count  Dtype  \n",
      "---  ------                --------------  -----  \n",
      " 0   title                 925 non-null    object \n",
      " 1   director              925 non-null    object \n",
      " 2   distributor           925 non-null    object \n",
      " 3   distributor_group     925 non-null    object \n",
      " 4   release_date          925 non-null    object \n",
      " 5   release_season        925 non-null    object \n",
      " 6   release               925 non-null    object \n",
      " 7   form                  925 non-null    object \n",
      " 8   nation                925 non-null    object \n",
      " 9   screen                925 non-null    int64  \n",
      " 10  rev_nationwide        925 non-null    float64\n",
      " 11  aud_nationwide        925 non-null    int64  \n",
      " 12  rev_seoul             925 non-null    int64  \n",
      " 13  rev_seoul.1           925 non-null    int64  \n",
      " 14  genre                 925 non-null    object \n",
      " 15  rate                  925 non-null    object \n",
      " 16  type                  925 non-null    object \n",
      " 17  expert_rating         925 non-null    float64\n",
      " 18  starring_actors       925 non-null    object \n",
      " 19  running_times         925 non-null    int64  \n",
      " 20  audience_rating       925 non-null    float64\n",
      " 21  rating_audiences      925 non-null    int64  \n",
      " 22  realease_year         925 non-null    int64  \n",
      " 23  director_power        925 non-null    int64  \n",
      " 24  sequel                925 non-null    int64  \n",
      " 25  original              925 non-null    int64  \n",
      " 26  actor_power           925 non-null    int64  \n",
      " 27  director_count        925 non-null    int64  \n",
      " 28  director_movie_count  925 non-null    int64  \n",
      " 29  actor_movie_count     925 non-null    int64  \n",
      " 30  log_aud               925 non-null    float64\n",
      " 31  before_news           925 non-null    float64\n",
      " 32  after_news            925 non-null    float64\n",
      "dtypes: float64(6), int64(14), object(13)\n",
      "memory usage: 238.6+ KB\n"
     ]
    }
   ],
   "source": [
    "final_df.info()"
   ]
  },
  {
   "cell_type": "code",
   "execution_count": 45,
   "metadata": {},
   "outputs": [
    {
     "data": {
      "text/plain": [
       "0       4/23/2015\n",
       "1      12/17/2014\n",
       "2       2/11/2015\n",
       "3       6/11/2015\n",
       "4       2/11/2015\n",
       "          ...    \n",
       "920    11/21/2019\n",
       "921    11/20/2019\n",
       "922    10/30/2019\n",
       "923    10/16/2019\n",
       "924     9/12/2019\n",
       "Name: release_date, Length: 925, dtype: object"
      ]
     },
     "execution_count": 45,
     "metadata": {},
     "output_type": "execute_result"
    }
   ],
   "source": [
    "final_df['release_date']"
   ]
  },
  {
   "cell_type": "code",
   "execution_count": null,
   "metadata": {},
   "outputs": [],
   "source": [
    "len(X_train), len(X_test), len(y_train), len(y_test),"
   ]
  },
  {
   "cell_type": "code",
   "execution_count": null,
   "metadata": {},
   "outputs": [],
   "source": []
  },
  {
   "cell_type": "code",
   "execution_count": 22,
   "metadata": {},
   "outputs": [],
   "source": [
    "df = pd.concat([X_train, y_train], axis=1)"
   ]
  },
  {
   "cell_type": "code",
   "execution_count": 26,
   "metadata": {},
   "outputs": [
    {
     "data": {
      "text/html": [
       "<div>\n",
       "<style scoped>\n",
       "    .dataframe tbody tr th:only-of-type {\n",
       "        vertical-align: middle;\n",
       "    }\n",
       "\n",
       "    .dataframe tbody tr th {\n",
       "        vertical-align: top;\n",
       "    }\n",
       "\n",
       "    .dataframe thead th {\n",
       "        text-align: right;\n",
       "    }\n",
       "</style>\n",
       "<table border=\"1\" class=\"dataframe\">\n",
       "  <thead>\n",
       "    <tr style=\"text-align: right;\">\n",
       "      <th></th>\n",
       "      <th>title</th>\n",
       "      <th>director</th>\n",
       "      <th>distributor</th>\n",
       "      <th>distributor_group</th>\n",
       "      <th>release_date</th>\n",
       "      <th>release_season</th>\n",
       "      <th>release</th>\n",
       "      <th>form</th>\n",
       "      <th>nation</th>\n",
       "      <th>screen</th>\n",
       "      <th>...</th>\n",
       "      <th>realease_year</th>\n",
       "      <th>director_power</th>\n",
       "      <th>sequel</th>\n",
       "      <th>original</th>\n",
       "      <th>actor_power</th>\n",
       "      <th>director_count</th>\n",
       "      <th>director_movie_count</th>\n",
       "      <th>actor_movie_count</th>\n",
       "      <th>aud_nationwide</th>\n",
       "      <th>log_aud</th>\n",
       "    </tr>\n",
       "  </thead>\n",
       "  <tbody>\n",
       "    <tr>\n",
       "      <th>107</th>\n",
       "      <td>인사이드 아웃</td>\n",
       "      <td>피트 닥터</td>\n",
       "      <td>월트디즈니컴퍼니코리아(주)</td>\n",
       "      <td>B</td>\n",
       "      <td>7/9/2015</td>\n",
       "      <td>summer</td>\n",
       "      <td>개봉영화</td>\n",
       "      <td>장편</td>\n",
       "      <td>미국</td>\n",
       "      <td>777</td>\n",
       "      <td>...</td>\n",
       "      <td>2015</td>\n",
       "      <td>0</td>\n",
       "      <td>0</td>\n",
       "      <td>0</td>\n",
       "      <td>0</td>\n",
       "      <td>1</td>\n",
       "      <td>0</td>\n",
       "      <td>0</td>\n",
       "      <td>4968687</td>\n",
       "      <td>15.418666</td>\n",
       "    </tr>\n",
       "  </tbody>\n",
       "</table>\n",
       "<p>1 rows × 31 columns</p>\n",
       "</div>"
      ],
      "text/plain": [
       "       title director     distributor distributor_group release_date  \\\n",
       "107  인사이드 아웃    피트 닥터  월트디즈니컴퍼니코리아(주)                 B     7/9/2015   \n",
       "\n",
       "    release_season release form nation  screen  ...  realease_year  \\\n",
       "107         summer    개봉영화   장편     미국     777  ...           2015   \n",
       "\n",
       "     director_power  sequel original actor_power director_count  \\\n",
       "107               0       0        0           0              1   \n",
       "\n",
       "     director_movie_count actor_movie_count  aud_nationwide    log_aud  \n",
       "107                     0                 0         4968687  15.418666  \n",
       "\n",
       "[1 rows x 31 columns]"
      ]
     },
     "execution_count": 26,
     "metadata": {},
     "output_type": "execute_result"
    }
   ],
   "source": [
    "df.head(1)"
   ]
  },
  {
   "cell_type": "code",
   "execution_count": 27,
   "metadata": {},
   "outputs": [],
   "source": [
    "group_a = ['씨제이이앤엠(주)', '메가박스중앙(주)플러스엠', 'CGV아트하우스', '롯데쇼핑㈜롯데엔터테인먼트',\n",
    "           'CGV아트하우스,(주)대명문화공장', '롯데쇼핑㈜롯데엔터테인먼트,(주)마인스 엔터테인먼트',\n",
    "           'CGV아트하우스,(주)리틀빅픽쳐스', 'CGV아트하우스,영화사 풀', '메가박스중앙(주)플러스엠,(주)키위미디어그룹',\n",
    "           '롯데쇼핑㈜롯데엔터테인먼트,(주)리틀빅픽쳐스', '메가박스중앙(주)플러스엠,주식회사 키위컴퍼니',\n",
    "           '씨제이 씨지브이(CJ CGV)(주)', '롯데컬처웍스(주)롯데엔터테인먼트',\n",
    "           '롯데컬처웍스(주)롯데엔터테인먼트,씨네그루(주)키다리이엔티', '메가박스중앙(주)플러스엠,(주)콘텐츠 난다긴다',\n",
    "           '씨제이이앤엠(주),(주)덱스터스튜디오', '(주)쇼박스', '(주)넥스트엔터테인먼트월드(NEW)', '(주)쇼박스,(주)와우픽쳐스',\n",
    "           '(주)넥스트엔터테인먼트월드(NEW),(주)팬엔터테인먼트']\n",
    "group_b = ['월트디즈니컴퍼니코리아(주)', '이십세기폭스코리아(주)', '유니버설픽쳐스인터내셔널 코리아(유)',\n",
    "           '워너브러더스 코리아(주)', '씨네그루(주)다우기술', '(주)이수C&E', '(주)티캐스트',\n",
    "           '씨네그루(주)키다리이엔티', '월트디즈니컴퍼니코리아 유한책임회사', '소니픽쳐스엔터테인먼트코리아주식회사극장배급지점',\n",
    "           '(주)이수C&E,(주)스톰픽쳐스코리아', '씨네그루(주)키다리이엔티,주식회사 키위컴퍼니',\n",
    "           '(주)이수C&E,(주)에이원엔터테인먼트', '씨네그루(주)키다리이엔티,(주)삼백상회',\n",
    "           '(주)이수C&E,(주)시너지미디어', '(주)셀트리온엔터테인먼트', '케이티하이텔(주)']"
   ]
  },
  {
   "cell_type": "code",
   "execution_count": 28,
   "metadata": {},
   "outputs": [],
   "source": [
    "df['dist_cat'] = df['distributor']\n",
    "\n",
    "for a in group_a:\n",
    "    df['dist_cat'] = df['dist_cat'].replace(a, 'A')\n",
    "\n",
    "for b in group_b:\n",
    "    df['dist_cat'] = df['dist_cat'].replace(b, 'B')\n",
    "\n",
    "df['dist_cat'] = df['dist_cat'].apply(\n",
    "    lambda data: \"C\" if data != 'A' and data != 'B' else data)"
   ]
  },
  {
   "cell_type": "code",
   "execution_count": 29,
   "metadata": {},
   "outputs": [],
   "source": [
    "X_test['dist_cat'] = X_test['distributor']\n",
    "\n",
    "for a in group_a:\n",
    "    X_test['dist_cat'] = X_test['dist_cat'].replace(a, 'A')\n",
    "\n",
    "for b in group_b:\n",
    "    X_test['dist_cat'] = X_test['dist_cat'].replace(b, 'B')\n",
    "\n",
    "X_test['dist_cat'] = X_test['dist_cat'].apply(\n",
    "    lambda data: \"C\" if data != 'A' and data != 'B' else data)"
   ]
  },
  {
   "cell_type": "code",
   "execution_count": 44,
   "metadata": {},
   "outputs": [],
   "source": [
    "# plt.figure(figsize=(12, 10))\n",
    "# sns.heatmap(df.corr(), cmap=\"YlGnBu\")\n",
    "# plt.show()"
   ]
  },
  {
   "cell_type": "code",
   "execution_count": 43,
   "metadata": {},
   "outputs": [
    {
     "data": {
      "text/plain": [
       "740"
      ]
     },
     "execution_count": 43,
     "metadata": {},
     "output_type": "execute_result"
    }
   ],
   "source": []
  },
  {
   "cell_type": "code",
   "execution_count": null,
   "metadata": {},
   "outputs": [],
   "source": []
  },
  {
   "cell_type": "code",
   "execution_count": null,
   "metadata": {},
   "outputs": [],
   "source": []
  },
  {
   "cell_type": "code",
   "execution_count": null,
   "metadata": {},
   "outputs": [],
   "source": []
  },
  {
   "cell_type": "code",
   "execution_count": null,
   "metadata": {},
   "outputs": [],
   "source": []
  },
  {
   "cell_type": "code",
   "execution_count": null,
   "metadata": {},
   "outputs": [],
   "source": []
  },
  {
   "cell_type": "code",
   "execution_count": null,
   "metadata": {},
   "outputs": [],
   "source": []
  },
  {
   "cell_type": "code",
   "execution_count": null,
   "metadata": {},
   "outputs": [],
   "source": []
  },
  {
   "cell_type": "code",
   "execution_count": null,
   "metadata": {},
   "outputs": [],
   "source": []
  },
  {
   "cell_type": "code",
   "execution_count": null,
   "metadata": {},
   "outputs": [],
   "source": []
  }
 ],
 "metadata": {
  "kernelspec": {
   "display_name": "Python 3",
   "language": "python",
   "name": "python3"
  },
  "language_info": {
   "codemirror_mode": {
    "name": "ipython",
    "version": 3
   },
   "file_extension": ".py",
   "mimetype": "text/x-python",
   "name": "python",
   "nbconvert_exporter": "python",
   "pygments_lexer": "ipython3",
   "version": "3.7.6"
  }
 },
 "nbformat": 4,
 "nbformat_minor": 4
}
