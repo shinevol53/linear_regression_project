{
 "cells": [
  {
   "cell_type": "code",
   "execution_count": null,
   "metadata": {},
   "outputs": [],
   "source": [
    "import seaborn as sns\n",
    "import pandas as pd\n",
    "import matplotlib.pylab as plt\n",
    "from selenium import webdriver\n",
    "import re\n",
    "import matplotlib as mpl\n",
    "from matplotlib import rc\n",
    "import missingno as msno\n",
    "import warnings\n",
    "from scrapy.http import TextResponse\n",
    "warnings.filterwarnings('ignore')\n",
    "\n",
    "# matplotlib 한글 사용을 위한 코드\n",
    "rc('font', family='AppleGothic')"
   ]
  },
  {
   "cell_type": "code",
   "execution_count": null,
   "metadata": {},
   "outputs": [],
   "source": [
    "movie_code_arr = []\n",
    "audience_rating_arr = []\n",
    "rating_audiences_arr = []"
   ]
  },
  {
   "cell_type": "code",
   "execution_count": null,
   "metadata": {},
   "outputs": [],
   "source": [
    "for code in movie_code_arr:\n",
    "    \n",
    "    # 먼저, 평점의 가장 마지막 페이지에 해당하는 url의 document구조를 가져온다\n",
    "    \n",
    "    code = int(code)\n",
    "    num = 99999\n",
    "    url = 'https://movie.naver.com/movie/bi/mi/pointWriteFormList.nhn?code={}&type=after&onlyActualPointYn=Y&onlySpoilerPointYn=N&order=newest&page={}'.format(code, num)\n",
    "    \n",
    "    # 현재 페이지 알아내기\n",
    "    try:\n",
    "        req = requests.get(url)\n",
    "        response = TextResponse(req.url, body=req.text, encoding=\"utf-8\")\n",
    "        number_list = response.xpath('/html/body/div/div/div[6]/div/a/span/text()').extract()\n",
    "        last_number = number_list[len(number_list) - 1]\n",
    "\n",
    "        cur_page = int(last_number.replace(',', ''))\n",
    "        cur_page\n",
    "\n",
    "        # 평가의 마지막 페이지 마지막 관객의 평점올린 날짜를 가져와서 7주일 이후의 날짜(limit_date) 만들기\n",
    "        time_elements = response.xpath('/html/body/div/div/div[5]/ul/li/div/dl/dt/em[2]/text()')\n",
    "        start_date = time_elements[len(time_elements) - 1].extract().split(' ')[0]\n",
    "        start_date = start_date.split(\" \")[0].split('.')\n",
    "        limit_date = datetime.datetime(int(start_date[0]), int(start_date[1]), int(start_date[2])) + datetime.timedelta(weeks=1)\n",
    "\n",
    "        audience_number = 0\n",
    "        total_rating = 0\n",
    "        flag = 0\n",
    "\n",
    "        # 여기서부터 정확한 페이지로 크롤링 시작\n",
    "        for page in range(cur_page, 0, -1):\n",
    "            if flag == 1:\n",
    "                break\n",
    "\n",
    "            url = 'https://movie.naver.com/movie/bi/mi/pointWriteFormList.nhn?code={}&type=after&onlyActualPointYn=Y&onlySpoilerPointYn=N&order=newest&page={}'.format(code, page)\n",
    "            req = requests.get(url)\n",
    "            response = TextResponse(req.url, body=req.text, encoding=\"utf-8\")\n",
    "\n",
    "            rating_elements = response.xpath('/html/body/div/div/div[5]/ul/li')\n",
    "\n",
    "            # 평가의 해당 페이지에서, 각 평점 엘리먼트 하나마다 날짜를 확인하면서 limit을 넘겼는지 체크한다\n",
    "            for n in range(len(rating_elements), 0, -1):\n",
    "                star = response.xpath('/html/body/div/div/div[5]/ul/li[{}]/div[1]/em/text()'.format(n)).extract()[0]\n",
    "                cur_date = response.xpath('/html/body/div/div/div[5]/ul/li[{}]/div[2]/dl/dt/em[2]/text()'.format(n)).extract()[0].split(' ')[0].split('.')\n",
    "\n",
    "                check_limit = limit_date - datetime.datetime(int(cur_date[0]), int(cur_date[1]), int(cur_date[2]))\n",
    "                if check_limit.days < 0:\n",
    "                    flag = 1\n",
    "                    break\n",
    "\n",
    "                total_rating = total_rating + int(star)\n",
    "                audience_number += 1\n",
    "                \n",
    "        audience_rating_arr.append(total_rating/audience_number)\n",
    "        rating_audiences_arr.append(audience_number)\n",
    "        \n",
    "    except Exception:\n",
    "        audience_rating_arr.append('-')\n",
    "        rating_audiences_arr.append('-')\n",
    "    "
   ]
  },
  {
   "cell_type": "code",
   "execution_count": null,
   "metadata": {},
   "outputs": [],
   "source": []
  },
  {
   "cell_type": "code",
   "execution_count": null,
   "metadata": {},
   "outputs": [],
   "source": []
  },
  {
   "cell_type": "code",
   "execution_count": null,
   "metadata": {},
   "outputs": [],
   "source": []
  },
  {
   "cell_type": "code",
   "execution_count": null,
   "metadata": {},
   "outputs": [],
   "source": []
  },
  {
   "cell_type": "code",
   "execution_count": null,
   "metadata": {},
   "outputs": [],
   "source": []
  },
  {
   "cell_type": "code",
   "execution_count": null,
   "metadata": {},
   "outputs": [],
   "source": []
  },
  {
   "cell_type": "code",
   "execution_count": null,
   "metadata": {},
   "outputs": [],
   "source": []
  },
  {
   "cell_type": "code",
   "execution_count": null,
   "metadata": {},
   "outputs": [],
   "source": []
  },
  {
   "cell_type": "code",
   "execution_count": null,
   "metadata": {},
   "outputs": [],
   "source": []
  },
  {
   "cell_type": "code",
   "execution_count": null,
   "metadata": {},
   "outputs": [],
   "source": []
  },
  {
   "cell_type": "code",
   "execution_count": null,
   "metadata": {},
   "outputs": [],
   "source": []
  },
  {
   "cell_type": "code",
   "execution_count": null,
   "metadata": {},
   "outputs": [],
   "source": []
  },
  {
   "cell_type": "code",
   "execution_count": null,
   "metadata": {},
   "outputs": [],
   "source": []
  },
  {
   "cell_type": "code",
   "execution_count": null,
   "metadata": {},
   "outputs": [],
   "source": []
  },
  {
   "cell_type": "code",
   "execution_count": null,
   "metadata": {},
   "outputs": [],
   "source": []
  }
 ],
 "metadata": {
  "kernelspec": {
   "display_name": "Python 3",
   "language": "python",
   "name": "python3"
  },
  "language_info": {
   "codemirror_mode": {
    "name": "ipython",
    "version": 3
   },
   "file_extension": ".py",
   "mimetype": "text/x-python",
   "name": "python",
   "nbconvert_exporter": "python",
   "pygments_lexer": "ipython3",
   "version": "3.7.6"
  }
 },
 "nbformat": 4,
 "nbformat_minor": 4
}
