{
 "cells": [
  {
   "cell_type": "code",
   "execution_count": 1,
   "metadata": {},
   "outputs": [],
   "source": [
    "import requests\n",
    "from urllib.request import urlopen\n",
    "from bs4 import BeautifulSoup"
   ]
  },
  {
   "cell_type": "code",
   "execution_count": 2,
   "metadata": {},
   "outputs": [],
   "source": [
    "def get_request_query(url, operation, params, serviceKey):\n",
    "    import urllib.parse as urlparse\n",
    "    params = urlparse.urlencode(params)\n",
    "    request_query = url + '/' + operation + '?' + params + '&' + 'serviceKey' + '=' + serviceKey\n",
    "    return request_query"
   ]
  },
  {
   "cell_type": "code",
   "execution_count": 233,
   "metadata": {},
   "outputs": [],
   "source": [
    "solYears = ['2019', '2018', '2017', '2016', '2015']\n",
    "solMonths = ['01', '02', '03', '04', '05', '06', '07', '08', '09', '10', '11', '12']"
   ]
  },
  {
   "cell_type": "code",
   "execution_count": 241,
   "metadata": {},
   "outputs": [
    {
     "name": "stdout",
     "output_type": "stream",
     "text": [
      "request_query:  http://apis.data.go.kr/B090041/openapi/service/SpcdeInfoService/getHoliDeInfo?solYear=2019&solMonth=01&serviceKey=Z5Sklpift0%2F0VXX874w7z3HJEF2lFrjyIcejRehRT3t3ajl31qVRnn2qUTxa%2BelVcj5ugQEkc8uM5g3mEGnmcw%3D%3D\n",
      "status_code : 200\n",
      "request_query:  http://apis.data.go.kr/B090041/openapi/service/SpcdeInfoService/getHoliDeInfo?solYear=2019&solMonth=02&serviceKey=Z5Sklpift0%2F0VXX874w7z3HJEF2lFrjyIcejRehRT3t3ajl31qVRnn2qUTxa%2BelVcj5ugQEkc8uM5g3mEGnmcw%3D%3D\n",
      "status_code : 200\n",
      "request_query:  http://apis.data.go.kr/B090041/openapi/service/SpcdeInfoService/getHoliDeInfo?solYear=2019&solMonth=03&serviceKey=Z5Sklpift0%2F0VXX874w7z3HJEF2lFrjyIcejRehRT3t3ajl31qVRnn2qUTxa%2BelVcj5ugQEkc8uM5g3mEGnmcw%3D%3D\n",
      "status_code : 200\n",
      "request_query:  http://apis.data.go.kr/B090041/openapi/service/SpcdeInfoService/getHoliDeInfo?solYear=2019&solMonth=04&serviceKey=Z5Sklpift0%2F0VXX874w7z3HJEF2lFrjyIcejRehRT3t3ajl31qVRnn2qUTxa%2BelVcj5ugQEkc8uM5g3mEGnmcw%3D%3D\n",
      "status_code : 200\n",
      "request_query:  http://apis.data.go.kr/B090041/openapi/service/SpcdeInfoService/getHoliDeInfo?solYear=2019&solMonth=05&serviceKey=Z5Sklpift0%2F0VXX874w7z3HJEF2lFrjyIcejRehRT3t3ajl31qVRnn2qUTxa%2BelVcj5ugQEkc8uM5g3mEGnmcw%3D%3D\n",
      "status_code : 200\n",
      "request_query:  http://apis.data.go.kr/B090041/openapi/service/SpcdeInfoService/getHoliDeInfo?solYear=2019&solMonth=06&serviceKey=Z5Sklpift0%2F0VXX874w7z3HJEF2lFrjyIcejRehRT3t3ajl31qVRnn2qUTxa%2BelVcj5ugQEkc8uM5g3mEGnmcw%3D%3D\n",
      "status_code : 200\n",
      "request_query:  http://apis.data.go.kr/B090041/openapi/service/SpcdeInfoService/getHoliDeInfo?solYear=2019&solMonth=07&serviceKey=Z5Sklpift0%2F0VXX874w7z3HJEF2lFrjyIcejRehRT3t3ajl31qVRnn2qUTxa%2BelVcj5ugQEkc8uM5g3mEGnmcw%3D%3D\n",
      "status_code : 200\n",
      "request_query:  http://apis.data.go.kr/B090041/openapi/service/SpcdeInfoService/getHoliDeInfo?solYear=2019&solMonth=08&serviceKey=Z5Sklpift0%2F0VXX874w7z3HJEF2lFrjyIcejRehRT3t3ajl31qVRnn2qUTxa%2BelVcj5ugQEkc8uM5g3mEGnmcw%3D%3D\n",
      "status_code : 200\n",
      "request_query:  http://apis.data.go.kr/B090041/openapi/service/SpcdeInfoService/getHoliDeInfo?solYear=2019&solMonth=09&serviceKey=Z5Sklpift0%2F0VXX874w7z3HJEF2lFrjyIcejRehRT3t3ajl31qVRnn2qUTxa%2BelVcj5ugQEkc8uM5g3mEGnmcw%3D%3D\n",
      "status_code : 200\n",
      "request_query:  http://apis.data.go.kr/B090041/openapi/service/SpcdeInfoService/getHoliDeInfo?solYear=2019&solMonth=10&serviceKey=Z5Sklpift0%2F0VXX874w7z3HJEF2lFrjyIcejRehRT3t3ajl31qVRnn2qUTxa%2BelVcj5ugQEkc8uM5g3mEGnmcw%3D%3D\n",
      "status_code : 200\n",
      "request_query:  http://apis.data.go.kr/B090041/openapi/service/SpcdeInfoService/getHoliDeInfo?solYear=2019&solMonth=11&serviceKey=Z5Sklpift0%2F0VXX874w7z3HJEF2lFrjyIcejRehRT3t3ajl31qVRnn2qUTxa%2BelVcj5ugQEkc8uM5g3mEGnmcw%3D%3D\n",
      "status_code : 200\n",
      "request_query:  http://apis.data.go.kr/B090041/openapi/service/SpcdeInfoService/getHoliDeInfo?solYear=2019&solMonth=12&serviceKey=Z5Sklpift0%2F0VXX874w7z3HJEF2lFrjyIcejRehRT3t3ajl31qVRnn2qUTxa%2BelVcj5ugQEkc8uM5g3mEGnmcw%3D%3D\n",
      "status_code : 200\n",
      "request_query:  http://apis.data.go.kr/B090041/openapi/service/SpcdeInfoService/getHoliDeInfo?solYear=2018&solMonth=01&serviceKey=Z5Sklpift0%2F0VXX874w7z3HJEF2lFrjyIcejRehRT3t3ajl31qVRnn2qUTxa%2BelVcj5ugQEkc8uM5g3mEGnmcw%3D%3D\n",
      "status_code : 200\n",
      "request_query:  http://apis.data.go.kr/B090041/openapi/service/SpcdeInfoService/getHoliDeInfo?solYear=2018&solMonth=02&serviceKey=Z5Sklpift0%2F0VXX874w7z3HJEF2lFrjyIcejRehRT3t3ajl31qVRnn2qUTxa%2BelVcj5ugQEkc8uM5g3mEGnmcw%3D%3D\n",
      "status_code : 200\n",
      "request_query:  http://apis.data.go.kr/B090041/openapi/service/SpcdeInfoService/getHoliDeInfo?solYear=2018&solMonth=03&serviceKey=Z5Sklpift0%2F0VXX874w7z3HJEF2lFrjyIcejRehRT3t3ajl31qVRnn2qUTxa%2BelVcj5ugQEkc8uM5g3mEGnmcw%3D%3D\n",
      "status_code : 200\n",
      "request_query:  http://apis.data.go.kr/B090041/openapi/service/SpcdeInfoService/getHoliDeInfo?solYear=2018&solMonth=04&serviceKey=Z5Sklpift0%2F0VXX874w7z3HJEF2lFrjyIcejRehRT3t3ajl31qVRnn2qUTxa%2BelVcj5ugQEkc8uM5g3mEGnmcw%3D%3D\n",
      "status_code : 200\n",
      "request_query:  http://apis.data.go.kr/B090041/openapi/service/SpcdeInfoService/getHoliDeInfo?solYear=2018&solMonth=05&serviceKey=Z5Sklpift0%2F0VXX874w7z3HJEF2lFrjyIcejRehRT3t3ajl31qVRnn2qUTxa%2BelVcj5ugQEkc8uM5g3mEGnmcw%3D%3D\n",
      "status_code : 200\n",
      "request_query:  http://apis.data.go.kr/B090041/openapi/service/SpcdeInfoService/getHoliDeInfo?solYear=2018&solMonth=06&serviceKey=Z5Sklpift0%2F0VXX874w7z3HJEF2lFrjyIcejRehRT3t3ajl31qVRnn2qUTxa%2BelVcj5ugQEkc8uM5g3mEGnmcw%3D%3D\n",
      "status_code : 200\n",
      "request_query:  http://apis.data.go.kr/B090041/openapi/service/SpcdeInfoService/getHoliDeInfo?solYear=2018&solMonth=07&serviceKey=Z5Sklpift0%2F0VXX874w7z3HJEF2lFrjyIcejRehRT3t3ajl31qVRnn2qUTxa%2BelVcj5ugQEkc8uM5g3mEGnmcw%3D%3D\n",
      "status_code : 200\n",
      "request_query:  http://apis.data.go.kr/B090041/openapi/service/SpcdeInfoService/getHoliDeInfo?solYear=2018&solMonth=08&serviceKey=Z5Sklpift0%2F0VXX874w7z3HJEF2lFrjyIcejRehRT3t3ajl31qVRnn2qUTxa%2BelVcj5ugQEkc8uM5g3mEGnmcw%3D%3D\n",
      "status_code : 200\n",
      "request_query:  http://apis.data.go.kr/B090041/openapi/service/SpcdeInfoService/getHoliDeInfo?solYear=2018&solMonth=09&serviceKey=Z5Sklpift0%2F0VXX874w7z3HJEF2lFrjyIcejRehRT3t3ajl31qVRnn2qUTxa%2BelVcj5ugQEkc8uM5g3mEGnmcw%3D%3D\n",
      "status_code : 200\n",
      "request_query:  http://apis.data.go.kr/B090041/openapi/service/SpcdeInfoService/getHoliDeInfo?solYear=2018&solMonth=10&serviceKey=Z5Sklpift0%2F0VXX874w7z3HJEF2lFrjyIcejRehRT3t3ajl31qVRnn2qUTxa%2BelVcj5ugQEkc8uM5g3mEGnmcw%3D%3D\n",
      "status_code : 200\n",
      "request_query:  http://apis.data.go.kr/B090041/openapi/service/SpcdeInfoService/getHoliDeInfo?solYear=2018&solMonth=11&serviceKey=Z5Sklpift0%2F0VXX874w7z3HJEF2lFrjyIcejRehRT3t3ajl31qVRnn2qUTxa%2BelVcj5ugQEkc8uM5g3mEGnmcw%3D%3D\n",
      "status_code : 200\n",
      "request_query:  http://apis.data.go.kr/B090041/openapi/service/SpcdeInfoService/getHoliDeInfo?solYear=2018&solMonth=12&serviceKey=Z5Sklpift0%2F0VXX874w7z3HJEF2lFrjyIcejRehRT3t3ajl31qVRnn2qUTxa%2BelVcj5ugQEkc8uM5g3mEGnmcw%3D%3D\n",
      "status_code : 200\n",
      "request_query:  http://apis.data.go.kr/B090041/openapi/service/SpcdeInfoService/getHoliDeInfo?solYear=2017&solMonth=01&serviceKey=Z5Sklpift0%2F0VXX874w7z3HJEF2lFrjyIcejRehRT3t3ajl31qVRnn2qUTxa%2BelVcj5ugQEkc8uM5g3mEGnmcw%3D%3D\n",
      "status_code : 200\n",
      "request_query:  http://apis.data.go.kr/B090041/openapi/service/SpcdeInfoService/getHoliDeInfo?solYear=2017&solMonth=02&serviceKey=Z5Sklpift0%2F0VXX874w7z3HJEF2lFrjyIcejRehRT3t3ajl31qVRnn2qUTxa%2BelVcj5ugQEkc8uM5g3mEGnmcw%3D%3D\n",
      "status_code : 200\n",
      "request_query:  http://apis.data.go.kr/B090041/openapi/service/SpcdeInfoService/getHoliDeInfo?solYear=2017&solMonth=03&serviceKey=Z5Sklpift0%2F0VXX874w7z3HJEF2lFrjyIcejRehRT3t3ajl31qVRnn2qUTxa%2BelVcj5ugQEkc8uM5g3mEGnmcw%3D%3D\n",
      "status_code : 200\n",
      "request_query:  http://apis.data.go.kr/B090041/openapi/service/SpcdeInfoService/getHoliDeInfo?solYear=2017&solMonth=04&serviceKey=Z5Sklpift0%2F0VXX874w7z3HJEF2lFrjyIcejRehRT3t3ajl31qVRnn2qUTxa%2BelVcj5ugQEkc8uM5g3mEGnmcw%3D%3D\n",
      "status_code : 200\n",
      "request_query:  http://apis.data.go.kr/B090041/openapi/service/SpcdeInfoService/getHoliDeInfo?solYear=2017&solMonth=05&serviceKey=Z5Sklpift0%2F0VXX874w7z3HJEF2lFrjyIcejRehRT3t3ajl31qVRnn2qUTxa%2BelVcj5ugQEkc8uM5g3mEGnmcw%3D%3D\n",
      "status_code : 200\n",
      "request_query:  http://apis.data.go.kr/B090041/openapi/service/SpcdeInfoService/getHoliDeInfo?solYear=2017&solMonth=06&serviceKey=Z5Sklpift0%2F0VXX874w7z3HJEF2lFrjyIcejRehRT3t3ajl31qVRnn2qUTxa%2BelVcj5ugQEkc8uM5g3mEGnmcw%3D%3D\n",
      "status_code : 200\n",
      "request_query:  http://apis.data.go.kr/B090041/openapi/service/SpcdeInfoService/getHoliDeInfo?solYear=2017&solMonth=07&serviceKey=Z5Sklpift0%2F0VXX874w7z3HJEF2lFrjyIcejRehRT3t3ajl31qVRnn2qUTxa%2BelVcj5ugQEkc8uM5g3mEGnmcw%3D%3D\n",
      "status_code : 200\n",
      "request_query:  http://apis.data.go.kr/B090041/openapi/service/SpcdeInfoService/getHoliDeInfo?solYear=2017&solMonth=08&serviceKey=Z5Sklpift0%2F0VXX874w7z3HJEF2lFrjyIcejRehRT3t3ajl31qVRnn2qUTxa%2BelVcj5ugQEkc8uM5g3mEGnmcw%3D%3D\n",
      "status_code : 200\n",
      "request_query:  http://apis.data.go.kr/B090041/openapi/service/SpcdeInfoService/getHoliDeInfo?solYear=2017&solMonth=09&serviceKey=Z5Sklpift0%2F0VXX874w7z3HJEF2lFrjyIcejRehRT3t3ajl31qVRnn2qUTxa%2BelVcj5ugQEkc8uM5g3mEGnmcw%3D%3D\n",
      "status_code : 200\n",
      "request_query:  http://apis.data.go.kr/B090041/openapi/service/SpcdeInfoService/getHoliDeInfo?solYear=2017&solMonth=10&serviceKey=Z5Sklpift0%2F0VXX874w7z3HJEF2lFrjyIcejRehRT3t3ajl31qVRnn2qUTxa%2BelVcj5ugQEkc8uM5g3mEGnmcw%3D%3D\n"
     ]
    },
    {
     "name": "stdout",
     "output_type": "stream",
     "text": [
      "status_code : 200\n",
      "request_query:  http://apis.data.go.kr/B090041/openapi/service/SpcdeInfoService/getHoliDeInfo?solYear=2017&solMonth=11&serviceKey=Z5Sklpift0%2F0VXX874w7z3HJEF2lFrjyIcejRehRT3t3ajl31qVRnn2qUTxa%2BelVcj5ugQEkc8uM5g3mEGnmcw%3D%3D\n",
      "status_code : 200\n",
      "request_query:  http://apis.data.go.kr/B090041/openapi/service/SpcdeInfoService/getHoliDeInfo?solYear=2017&solMonth=12&serviceKey=Z5Sklpift0%2F0VXX874w7z3HJEF2lFrjyIcejRehRT3t3ajl31qVRnn2qUTxa%2BelVcj5ugQEkc8uM5g3mEGnmcw%3D%3D\n",
      "status_code : 200\n",
      "request_query:  http://apis.data.go.kr/B090041/openapi/service/SpcdeInfoService/getHoliDeInfo?solYear=2016&solMonth=01&serviceKey=Z5Sklpift0%2F0VXX874w7z3HJEF2lFrjyIcejRehRT3t3ajl31qVRnn2qUTxa%2BelVcj5ugQEkc8uM5g3mEGnmcw%3D%3D\n",
      "status_code : 200\n",
      "request_query:  http://apis.data.go.kr/B090041/openapi/service/SpcdeInfoService/getHoliDeInfo?solYear=2016&solMonth=02&serviceKey=Z5Sklpift0%2F0VXX874w7z3HJEF2lFrjyIcejRehRT3t3ajl31qVRnn2qUTxa%2BelVcj5ugQEkc8uM5g3mEGnmcw%3D%3D\n",
      "status_code : 200\n",
      "request_query:  http://apis.data.go.kr/B090041/openapi/service/SpcdeInfoService/getHoliDeInfo?solYear=2016&solMonth=03&serviceKey=Z5Sklpift0%2F0VXX874w7z3HJEF2lFrjyIcejRehRT3t3ajl31qVRnn2qUTxa%2BelVcj5ugQEkc8uM5g3mEGnmcw%3D%3D\n",
      "status_code : 200\n",
      "request_query:  http://apis.data.go.kr/B090041/openapi/service/SpcdeInfoService/getHoliDeInfo?solYear=2016&solMonth=04&serviceKey=Z5Sklpift0%2F0VXX874w7z3HJEF2lFrjyIcejRehRT3t3ajl31qVRnn2qUTxa%2BelVcj5ugQEkc8uM5g3mEGnmcw%3D%3D\n",
      "status_code : 200\n",
      "request_query:  http://apis.data.go.kr/B090041/openapi/service/SpcdeInfoService/getHoliDeInfo?solYear=2016&solMonth=05&serviceKey=Z5Sklpift0%2F0VXX874w7z3HJEF2lFrjyIcejRehRT3t3ajl31qVRnn2qUTxa%2BelVcj5ugQEkc8uM5g3mEGnmcw%3D%3D\n",
      "status_code : 200\n",
      "request_query:  http://apis.data.go.kr/B090041/openapi/service/SpcdeInfoService/getHoliDeInfo?solYear=2016&solMonth=06&serviceKey=Z5Sklpift0%2F0VXX874w7z3HJEF2lFrjyIcejRehRT3t3ajl31qVRnn2qUTxa%2BelVcj5ugQEkc8uM5g3mEGnmcw%3D%3D\n",
      "status_code : 200\n",
      "request_query:  http://apis.data.go.kr/B090041/openapi/service/SpcdeInfoService/getHoliDeInfo?solYear=2016&solMonth=07&serviceKey=Z5Sklpift0%2F0VXX874w7z3HJEF2lFrjyIcejRehRT3t3ajl31qVRnn2qUTxa%2BelVcj5ugQEkc8uM5g3mEGnmcw%3D%3D\n",
      "status_code : 200\n",
      "request_query:  http://apis.data.go.kr/B090041/openapi/service/SpcdeInfoService/getHoliDeInfo?solYear=2016&solMonth=08&serviceKey=Z5Sklpift0%2F0VXX874w7z3HJEF2lFrjyIcejRehRT3t3ajl31qVRnn2qUTxa%2BelVcj5ugQEkc8uM5g3mEGnmcw%3D%3D\n",
      "status_code : 200\n",
      "request_query:  http://apis.data.go.kr/B090041/openapi/service/SpcdeInfoService/getHoliDeInfo?solYear=2016&solMonth=09&serviceKey=Z5Sklpift0%2F0VXX874w7z3HJEF2lFrjyIcejRehRT3t3ajl31qVRnn2qUTxa%2BelVcj5ugQEkc8uM5g3mEGnmcw%3D%3D\n",
      "status_code : 200\n",
      "request_query:  http://apis.data.go.kr/B090041/openapi/service/SpcdeInfoService/getHoliDeInfo?solYear=2016&solMonth=10&serviceKey=Z5Sklpift0%2F0VXX874w7z3HJEF2lFrjyIcejRehRT3t3ajl31qVRnn2qUTxa%2BelVcj5ugQEkc8uM5g3mEGnmcw%3D%3D\n",
      "status_code : 200\n",
      "request_query:  http://apis.data.go.kr/B090041/openapi/service/SpcdeInfoService/getHoliDeInfo?solYear=2016&solMonth=11&serviceKey=Z5Sklpift0%2F0VXX874w7z3HJEF2lFrjyIcejRehRT3t3ajl31qVRnn2qUTxa%2BelVcj5ugQEkc8uM5g3mEGnmcw%3D%3D\n",
      "status_code : 200\n",
      "request_query:  http://apis.data.go.kr/B090041/openapi/service/SpcdeInfoService/getHoliDeInfo?solYear=2016&solMonth=12&serviceKey=Z5Sklpift0%2F0VXX874w7z3HJEF2lFrjyIcejRehRT3t3ajl31qVRnn2qUTxa%2BelVcj5ugQEkc8uM5g3mEGnmcw%3D%3D\n",
      "status_code : 200\n",
      "request_query:  http://apis.data.go.kr/B090041/openapi/service/SpcdeInfoService/getHoliDeInfo?solYear=2015&solMonth=01&serviceKey=Z5Sklpift0%2F0VXX874w7z3HJEF2lFrjyIcejRehRT3t3ajl31qVRnn2qUTxa%2BelVcj5ugQEkc8uM5g3mEGnmcw%3D%3D\n",
      "status_code : 200\n",
      "request_query:  http://apis.data.go.kr/B090041/openapi/service/SpcdeInfoService/getHoliDeInfo?solYear=2015&solMonth=02&serviceKey=Z5Sklpift0%2F0VXX874w7z3HJEF2lFrjyIcejRehRT3t3ajl31qVRnn2qUTxa%2BelVcj5ugQEkc8uM5g3mEGnmcw%3D%3D\n",
      "status_code : 200\n",
      "request_query:  http://apis.data.go.kr/B090041/openapi/service/SpcdeInfoService/getHoliDeInfo?solYear=2015&solMonth=03&serviceKey=Z5Sklpift0%2F0VXX874w7z3HJEF2lFrjyIcejRehRT3t3ajl31qVRnn2qUTxa%2BelVcj5ugQEkc8uM5g3mEGnmcw%3D%3D\n",
      "status_code : 200\n",
      "request_query:  http://apis.data.go.kr/B090041/openapi/service/SpcdeInfoService/getHoliDeInfo?solYear=2015&solMonth=04&serviceKey=Z5Sklpift0%2F0VXX874w7z3HJEF2lFrjyIcejRehRT3t3ajl31qVRnn2qUTxa%2BelVcj5ugQEkc8uM5g3mEGnmcw%3D%3D\n",
      "status_code : 200\n",
      "request_query:  http://apis.data.go.kr/B090041/openapi/service/SpcdeInfoService/getHoliDeInfo?solYear=2015&solMonth=05&serviceKey=Z5Sklpift0%2F0VXX874w7z3HJEF2lFrjyIcejRehRT3t3ajl31qVRnn2qUTxa%2BelVcj5ugQEkc8uM5g3mEGnmcw%3D%3D\n",
      "status_code : 200\n",
      "request_query:  http://apis.data.go.kr/B090041/openapi/service/SpcdeInfoService/getHoliDeInfo?solYear=2015&solMonth=06&serviceKey=Z5Sklpift0%2F0VXX874w7z3HJEF2lFrjyIcejRehRT3t3ajl31qVRnn2qUTxa%2BelVcj5ugQEkc8uM5g3mEGnmcw%3D%3D\n",
      "status_code : 200\n",
      "request_query:  http://apis.data.go.kr/B090041/openapi/service/SpcdeInfoService/getHoliDeInfo?solYear=2015&solMonth=07&serviceKey=Z5Sklpift0%2F0VXX874w7z3HJEF2lFrjyIcejRehRT3t3ajl31qVRnn2qUTxa%2BelVcj5ugQEkc8uM5g3mEGnmcw%3D%3D\n",
      "status_code : 200\n",
      "request_query:  http://apis.data.go.kr/B090041/openapi/service/SpcdeInfoService/getHoliDeInfo?solYear=2015&solMonth=08&serviceKey=Z5Sklpift0%2F0VXX874w7z3HJEF2lFrjyIcejRehRT3t3ajl31qVRnn2qUTxa%2BelVcj5ugQEkc8uM5g3mEGnmcw%3D%3D\n",
      "status_code : 200\n",
      "request_query:  http://apis.data.go.kr/B090041/openapi/service/SpcdeInfoService/getHoliDeInfo?solYear=2015&solMonth=09&serviceKey=Z5Sklpift0%2F0VXX874w7z3HJEF2lFrjyIcejRehRT3t3ajl31qVRnn2qUTxa%2BelVcj5ugQEkc8uM5g3mEGnmcw%3D%3D\n",
      "status_code : 200\n",
      "request_query:  http://apis.data.go.kr/B090041/openapi/service/SpcdeInfoService/getHoliDeInfo?solYear=2015&solMonth=10&serviceKey=Z5Sklpift0%2F0VXX874w7z3HJEF2lFrjyIcejRehRT3t3ajl31qVRnn2qUTxa%2BelVcj5ugQEkc8uM5g3mEGnmcw%3D%3D\n",
      "status_code : 200\n",
      "request_query:  http://apis.data.go.kr/B090041/openapi/service/SpcdeInfoService/getHoliDeInfo?solYear=2015&solMonth=11&serviceKey=Z5Sklpift0%2F0VXX874w7z3HJEF2lFrjyIcejRehRT3t3ajl31qVRnn2qUTxa%2BelVcj5ugQEkc8uM5g3mEGnmcw%3D%3D\n",
      "status_code : 200\n",
      "request_query:  http://apis.data.go.kr/B090041/openapi/service/SpcdeInfoService/getHoliDeInfo?solYear=2015&solMonth=12&serviceKey=Z5Sklpift0%2F0VXX874w7z3HJEF2lFrjyIcejRehRT3t3ajl31qVRnn2qUTxa%2BelVcj5ugQEkc8uM5g3mEGnmcw%3D%3D\n",
      "status_code : 200\n"
     ]
    }
   ],
   "source": [
    "request_querys = []\n",
    "responses = []\n",
    "for solYear in solYears:\n",
    "    for solMonth in solMonths:\n",
    "        URL = 'http://apis.data.go.kr/B090041/openapi/service/SpcdeInfoService'\n",
    "        OPERATION = 'getHoliDeInfo' # 국경일 + 공휴일 정보 조회 오퍼레이션\n",
    "        # 파라미터\n",
    "        SERVICEKEY = 'Z5Sklpift0%2F0VXX874w7z3HJEF2lFrjyIcejRehRT3t3ajl31qVRnn2qUTxa%2BelVcj5ugQEkc8uM5g3mEGnmcw%3D%3D'\n",
    "        solYear = solYear\n",
    "        solMonth = solMonth\n",
    "        PARAMS = {'solYear' : solYear, 'solMonth' : solMonth}\n",
    "        request_query = get_request_query(URL, OPERATION, PARAMS, SERVICEKEY)\n",
    "        print('request_query: ', request_query)\n",
    "        response = requests.get(url=request_query)\n",
    "        print('status_code : ' + str(response.status_code))\n",
    "        request_querys.append(request_query)\n",
    "        responses.append(response)"
   ]
  },
  {
   "cell_type": "code",
   "execution_count": 414,
   "metadata": {},
   "outputs": [],
   "source": [
    "query_lists=len(request_querys)"
   ]
  },
  {
   "cell_type": "code",
   "execution_count": 415,
   "metadata": {},
   "outputs": [
    {
     "data": {
      "text/plain": [
       "'http://apis.data.go.kr/B090041/openapi/service/SpcdeInfoService/getHoliDeInfo?solYear=2019&solMonth=02&serviceKey=Z5Sklpift0%2F0VXX874w7z3HJEF2lFrjyIcejRehRT3t3ajl31qVRnn2qUTxa%2BelVcj5ugQEkc8uM5g3mEGnmcw%3D%3D'"
      ]
     },
     "execution_count": 415,
     "metadata": {},
     "output_type": "execute_result"
    }
   ],
   "source": [
    "request_querys[1]"
   ]
  },
  {
   "cell_type": "code",
   "execution_count": 416,
   "metadata": {},
   "outputs": [
    {
     "data": {
      "text/plain": [
       "<Response [200]>"
      ]
     },
     "execution_count": 416,
     "metadata": {},
     "output_type": "execute_result"
    }
   ],
   "source": [
    "response1=requests.get(url=request_querys[0])\n",
    "response1"
   ]
  },
  {
   "cell_type": "code",
   "execution_count": 417,
   "metadata": {},
   "outputs": [
    {
     "name": "stdout",
     "output_type": "stream",
     "text": [
      "b'<?xml version=\"1.0\" encoding=\"UTF-8\" standalone=\"yes\"?><response><header><resultCode>00</resultCode><resultMsg>NORMAL SERVICE.</resultMsg></header><body><items><item><dateKind>01</dateKind><dateName>1\\xec\\x9b\\x941\\xec\\x9d\\xbc</dateName><isHoliday>Y</isHoliday><locdate>20190101</locdate><seq>1</seq></item></items><numOfRows>10</numOfRows><pageNo>1</pageNo><totalCount>1</totalCount></body></response>'\n",
      "b'<?xml version=\"1.0\" encoding=\"UTF-8\" standalone=\"yes\"?><response><header><resultCode>00</resultCode><resultMsg>NORMAL SERVICE.</resultMsg></header><body><items><item><dateKind>01</dateKind><dateName>\\xec\\x84\\xa4\\xeb\\x82\\xa0</dateName><isHoliday>Y</isHoliday><locdate>20190204</locdate><seq>1</seq></item><item><dateKind>01</dateKind><dateName>\\xec\\x84\\xa4\\xeb\\x82\\xa0</dateName><isHoliday>Y</isHoliday><locdate>20190205</locdate><seq>1</seq></item><item><dateKind>01</dateKind><dateName>\\xec\\x84\\xa4\\xeb\\x82\\xa0</dateName><isHoliday>Y</isHoliday><locdate>20190206</locdate><seq>1</seq></item></items><numOfRows>10</numOfRows><pageNo>1</pageNo><totalCount>3</totalCount></body></response>'\n",
      "b'<?xml version=\"1.0\" encoding=\"UTF-8\" standalone=\"yes\"?><response><header><resultCode>00</resultCode><resultMsg>NORMAL SERVICE.</resultMsg></header><body><items><item><dateKind>01</dateKind><dateName>\\xec\\x82\\xbc\\xec\\x9d\\xbc\\xec\\xa0\\x88</dateName><isHoliday>Y</isHoliday><locdate>20190301</locdate><seq>1</seq></item></items><numOfRows>10</numOfRows><pageNo>1</pageNo><totalCount>1</totalCount></body></response>'\n",
      "b'<?xml version=\"1.0\" encoding=\"UTF-8\" standalone=\"yes\"?><response><header><resultCode>00</resultCode><resultMsg>NORMAL SERVICE.</resultMsg></header><body><items/><numOfRows>10</numOfRows><pageNo>1</pageNo><totalCount>0</totalCount></body></response>'\n",
      "b'<?xml version=\"1.0\" encoding=\"UTF-8\" standalone=\"yes\"?><response><header><resultCode>00</resultCode><resultMsg>NORMAL SERVICE.</resultMsg></header><body><items><item><dateKind>01</dateKind><dateName>\\xec\\x96\\xb4\\xeb\\xa6\\xb0\\xec\\x9d\\xb4\\xeb\\x82\\xa0</dateName><isHoliday>Y</isHoliday><locdate>20190505</locdate><seq>1</seq></item><item><dateKind>01</dateKind><dateName>\\xeb\\x8c\\x80\\xec\\xb2\\xb4\\xea\\xb3\\xb5\\xed\\x9c\\xb4\\xec\\x9d\\xbc</dateName><isHoliday>Y</isHoliday><locdate>20190506</locdate><seq>1</seq></item><item><dateKind>01</dateKind><dateName>\\xeb\\xb6\\x80\\xec\\xb2\\x98\\xeb\\x8b\\x98\\xec\\x98\\xa4\\xec\\x8b\\xa0\\xeb\\x82\\xa0</dateName><isHoliday>Y</isHoliday><locdate>20190512</locdate><seq>1</seq></item></items><numOfRows>10</numOfRows><pageNo>1</pageNo><totalCount>3</totalCount></body></response>'\n",
      "b'<?xml version=\"1.0\" encoding=\"UTF-8\" standalone=\"yes\"?><response><header><resultCode>00</resultCode><resultMsg>NORMAL SERVICE.</resultMsg></header><body><items><item><dateKind>01</dateKind><dateName>\\xed\\x98\\x84\\xec\\xb6\\xa9\\xec\\x9d\\xbc</dateName><isHoliday>Y</isHoliday><locdate>20190606</locdate><seq>1</seq></item></items><numOfRows>10</numOfRows><pageNo>1</pageNo><totalCount>1</totalCount></body></response>'\n",
      "b'<?xml version=\"1.0\" encoding=\"UTF-8\" standalone=\"yes\"?><response><header><resultCode>00</resultCode><resultMsg>NORMAL SERVICE.</resultMsg></header><body><items><item><dateKind>01</dateKind><dateName>\\xec\\xa0\\x9c\\xed\\x97\\x8c\\xec\\xa0\\x88</dateName><isHoliday>N</isHoliday><locdate>20190717</locdate><remarks>\\xea\\xb5\\xad\\xea\\xb2\\xbd\\xec\\x9d\\xbc\\xec\\x9d\\xb4\\xec\\xa7\\x80\\xeb\\xa7\\x8c, \\xea\\xb4\\x80\\xea\\xb3\\xb5\\xec\\x84\\x9c\\xec\\x9d\\x98 \\xea\\xb3\\xb5\\xed\\x9c\\xb4\\xec\\x9d\\xbc\\xec\\x9d\\xb4 \\xec\\x95\\x84\\xeb\\x8b\\x98.</remarks><seq>1</seq></item></items><numOfRows>10</numOfRows><pageNo>1</pageNo><totalCount>1</totalCount></body></response>'\n",
      "b'<?xml version=\"1.0\" encoding=\"UTF-8\" standalone=\"yes\"?><response><header><resultCode>00</resultCode><resultMsg>NORMAL SERVICE.</resultMsg></header><body><items><item><dateKind>01</dateKind><dateName>\\xea\\xb4\\x91\\xeb\\xb3\\xb5\\xec\\xa0\\x88</dateName><isHoliday>Y</isHoliday><locdate>20190815</locdate><seq>1</seq></item></items><numOfRows>10</numOfRows><pageNo>1</pageNo><totalCount>1</totalCount></body></response>'\n",
      "b'<?xml version=\"1.0\" encoding=\"UTF-8\" standalone=\"yes\"?><response><header><resultCode>00</resultCode><resultMsg>NORMAL SERVICE.</resultMsg></header><body><items><item><dateKind>01</dateKind><dateName>\\xec\\xb6\\x94\\xec\\x84\\x9d</dateName><isHoliday>Y</isHoliday><locdate>20190912</locdate><seq>1</seq></item><item><dateKind>01</dateKind><dateName>\\xec\\xb6\\x94\\xec\\x84\\x9d</dateName><isHoliday>Y</isHoliday><locdate>20190913</locdate><seq>1</seq></item><item><dateKind>01</dateKind><dateName>\\xec\\xb6\\x94\\xec\\x84\\x9d</dateName><isHoliday>Y</isHoliday><locdate>20190914</locdate><seq>1</seq></item></items><numOfRows>10</numOfRows><pageNo>1</pageNo><totalCount>3</totalCount></body></response>'\n",
      "b'<?xml version=\"1.0\" encoding=\"UTF-8\" standalone=\"yes\"?><response><header><resultCode>00</resultCode><resultMsg>NORMAL SERVICE.</resultMsg></header><body><items><item><dateKind>01</dateKind><dateName>\\xea\\xb0\\x9c\\xec\\xb2\\x9c\\xec\\xa0\\x88</dateName><isHoliday>Y</isHoliday><locdate>20191003</locdate><seq>1</seq></item><item><dateKind>01</dateKind><dateName>\\xed\\x95\\x9c\\xea\\xb8\\x80\\xeb\\x82\\xa0</dateName><isHoliday>Y</isHoliday><locdate>20191009</locdate><seq>1</seq></item></items><numOfRows>10</numOfRows><pageNo>1</pageNo><totalCount>2</totalCount></body></response>'\n",
      "b'<?xml version=\"1.0\" encoding=\"UTF-8\" standalone=\"yes\"?><response><header><resultCode>00</resultCode><resultMsg>NORMAL SERVICE.</resultMsg></header><body><items/><numOfRows>10</numOfRows><pageNo>1</pageNo><totalCount>0</totalCount></body></response>'\n",
      "b'<?xml version=\"1.0\" encoding=\"UTF-8\" standalone=\"yes\"?><response><header><resultCode>00</resultCode><resultMsg>NORMAL SERVICE.</resultMsg></header><body><items><item><dateKind>01</dateKind><dateName>\\xea\\xb8\\xb0\\xeb\\x8f\\x85\\xed\\x83\\x84\\xec\\x8b\\xa0\\xec\\x9d\\xbc</dateName><isHoliday>Y</isHoliday><locdate>20191225</locdate><seq>1</seq></item></items><numOfRows>10</numOfRows><pageNo>1</pageNo><totalCount>1</totalCount></body></response>'\n",
      "b'<?xml version=\"1.0\" encoding=\"UTF-8\" standalone=\"yes\"?><response><header><resultCode>00</resultCode><resultMsg>NORMAL SERVICE.</resultMsg></header><body><items><item><dateKind>01</dateKind><dateName>1\\xec\\x9b\\x941\\xec\\x9d\\xbc</dateName><isHoliday>Y</isHoliday><locdate>20180101</locdate><seq>1</seq></item></items><numOfRows>10</numOfRows><pageNo>1</pageNo><totalCount>1</totalCount></body></response>'\n",
      "b'<?xml version=\"1.0\" encoding=\"UTF-8\" standalone=\"yes\"?><response><header><resultCode>00</resultCode><resultMsg>NORMAL SERVICE.</resultMsg></header><body><items><item><dateKind>01</dateKind><dateName>\\xec\\x84\\xa4\\xeb\\x82\\xa0</dateName><isHoliday>Y</isHoliday><locdate>20180215</locdate><seq>1</seq></item><item><dateKind>01</dateKind><dateName>\\xec\\x84\\xa4\\xeb\\x82\\xa0</dateName><isHoliday>Y</isHoliday><locdate>20180216</locdate><seq>1</seq></item><item><dateKind>01</dateKind><dateName>\\xec\\x84\\xa4\\xeb\\x82\\xa0</dateName><isHoliday>Y</isHoliday><locdate>20180217</locdate><seq>1</seq></item></items><numOfRows>10</numOfRows><pageNo>1</pageNo><totalCount>3</totalCount></body></response>'\n",
      "b'<?xml version=\"1.0\" encoding=\"UTF-8\" standalone=\"yes\"?><response><header><resultCode>00</resultCode><resultMsg>NORMAL SERVICE.</resultMsg></header><body><items><item><dateKind>01</dateKind><dateName>\\xec\\x82\\xbc\\xec\\x9d\\xbc\\xec\\xa0\\x88</dateName><isHoliday>Y</isHoliday><locdate>20180301</locdate><seq>1</seq></item></items><numOfRows>10</numOfRows><pageNo>1</pageNo><totalCount>1</totalCount></body></response>'\n",
      "b'<?xml version=\"1.0\" encoding=\"UTF-8\" standalone=\"yes\"?><response><header><resultCode>00</resultCode><resultMsg>NORMAL SERVICE.</resultMsg></header><body><items/><numOfRows>10</numOfRows><pageNo>1</pageNo><totalCount>0</totalCount></body></response>'\n",
      "b'<?xml version=\"1.0\" encoding=\"UTF-8\" standalone=\"yes\"?><response><header><resultCode>00</resultCode><resultMsg>NORMAL SERVICE.</resultMsg></header><body><items><item><dateKind>01</dateKind><dateName>\\xec\\x96\\xb4\\xeb\\xa6\\xb0\\xec\\x9d\\xb4\\xeb\\x82\\xa0</dateName><isHoliday>Y</isHoliday><locdate>20180505</locdate><seq>1</seq></item><item><dateKind>01</dateKind><dateName>\\xeb\\x8c\\x80\\xec\\xb2\\xb4\\xed\\x9c\\xb4\\xeb\\xac\\xb4\\xec\\x9d\\xbc</dateName><isHoliday>Y</isHoliday><locdate>20180507</locdate><seq>1</seq></item><item><dateKind>01</dateKind><dateName>\\xeb\\xb6\\x80\\xec\\xb2\\x98\\xeb\\x8b\\x98\\xec\\x98\\xa4\\xec\\x8b\\xa0\\xeb\\x82\\xa0</dateName><isHoliday>Y</isHoliday><locdate>20180522</locdate><seq>1</seq></item></items><numOfRows>10</numOfRows><pageNo>1</pageNo><totalCount>3</totalCount></body></response>'\n"
     ]
    },
    {
     "name": "stdout",
     "output_type": "stream",
     "text": [
      "b'<?xml version=\"1.0\" encoding=\"UTF-8\" standalone=\"yes\"?><response><header><resultCode>00</resultCode><resultMsg>NORMAL SERVICE.</resultMsg></header><body><items><item><dateKind>01</dateKind><dateName>\\xed\\x98\\x84\\xec\\xb6\\xa9\\xec\\x9d\\xbc</dateName><isHoliday>Y</isHoliday><locdate>20180606</locdate><seq>1</seq></item><item><dateKind>01</dateKind><dateName>\\xec\\xa0\\x84\\xea\\xb5\\xad\\xeb\\x8f\\x99\\xec\\x8b\\x9c\\xec\\xa7\\x80\\xeb\\xb0\\xa9\\xec\\x84\\xa0\\xea\\xb1\\xb0</dateName><isHoliday>Y</isHoliday><locdate>20180613</locdate><seq>1</seq></item></items><numOfRows>10</numOfRows><pageNo>1</pageNo><totalCount>2</totalCount></body></response>'\n",
      "b'<?xml version=\"1.0\" encoding=\"UTF-8\" standalone=\"yes\"?><response><header><resultCode>00</resultCode><resultMsg>NORMAL SERVICE.</resultMsg></header><body><items><item><dateKind>01</dateKind><dateName>\\xec\\xa0\\x9c\\xed\\x97\\x8c\\xec\\xa0\\x88</dateName><isHoliday>N</isHoliday><locdate>20180717</locdate><seq>1</seq></item></items><numOfRows>10</numOfRows><pageNo>1</pageNo><totalCount>1</totalCount></body></response>'\n",
      "b'<?xml version=\"1.0\" encoding=\"UTF-8\" standalone=\"yes\"?><response><header><resultCode>00</resultCode><resultMsg>NORMAL SERVICE.</resultMsg></header><body><items><item><dateKind>01</dateKind><dateName>\\xea\\xb4\\x91\\xeb\\xb3\\xb5\\xec\\xa0\\x88</dateName><isHoliday>Y</isHoliday><locdate>20180815</locdate><seq>1</seq></item></items><numOfRows>10</numOfRows><pageNo>1</pageNo><totalCount>1</totalCount></body></response>'\n",
      "b'<?xml version=\"1.0\" encoding=\"UTF-8\" standalone=\"yes\"?><response><header><resultCode>00</resultCode><resultMsg>NORMAL SERVICE.</resultMsg></header><body><items><item><dateKind>01</dateKind><dateName>\\xec\\xb6\\x94\\xec\\x84\\x9d</dateName><isHoliday>Y</isHoliday><locdate>20180923</locdate><seq>1</seq></item><item><dateKind>01</dateKind><dateName>\\xec\\xb6\\x94\\xec\\x84\\x9d</dateName><isHoliday>Y</isHoliday><locdate>20180924</locdate><seq>1</seq></item><item><dateKind>01</dateKind><dateName>\\xec\\xb6\\x94\\xec\\x84\\x9d</dateName><isHoliday>Y</isHoliday><locdate>20180925</locdate><seq>1</seq></item><item><dateKind>01</dateKind><dateName>\\xeb\\x8c\\x80\\xec\\xb2\\xb4\\xed\\x9c\\xb4\\xeb\\xac\\xb4\\xec\\x9d\\xbc</dateName><isHoliday>Y</isHoliday><locdate>20180926</locdate><seq>1</seq></item></items><numOfRows>10</numOfRows><pageNo>1</pageNo><totalCount>4</totalCount></body></response>'\n",
      "b'<?xml version=\"1.0\" encoding=\"UTF-8\" standalone=\"yes\"?><response><header><resultCode>00</resultCode><resultMsg>NORMAL SERVICE.</resultMsg></header><body><items><item><dateKind>01</dateKind><dateName>\\xea\\xb0\\x9c\\xec\\xb2\\x9c\\xec\\xa0\\x88</dateName><isHoliday>Y</isHoliday><locdate>20181003</locdate><seq>1</seq></item><item><dateKind>01</dateKind><dateName>\\xed\\x95\\x9c\\xea\\xb8\\x80\\xeb\\x82\\xa0</dateName><isHoliday>Y</isHoliday><locdate>20181009</locdate><seq>1</seq></item></items><numOfRows>10</numOfRows><pageNo>1</pageNo><totalCount>2</totalCount></body></response>'\n",
      "b'<?xml version=\"1.0\" encoding=\"UTF-8\" standalone=\"yes\"?><response><header><resultCode>00</resultCode><resultMsg>NORMAL SERVICE.</resultMsg></header><body><items/><numOfRows>10</numOfRows><pageNo>1</pageNo><totalCount>0</totalCount></body></response>'\n",
      "b'<?xml version=\"1.0\" encoding=\"UTF-8\" standalone=\"yes\"?><response><header><resultCode>00</resultCode><resultMsg>NORMAL SERVICE.</resultMsg></header><body><items><item><dateKind>01</dateKind><dateName>\\xea\\xb8\\xb0\\xeb\\x8f\\x85\\xed\\x83\\x84\\xec\\x8b\\xa0\\xec\\x9d\\xbc</dateName><isHoliday>Y</isHoliday><locdate>20181225</locdate><seq>1</seq></item></items><numOfRows>10</numOfRows><pageNo>1</pageNo><totalCount>1</totalCount></body></response>'\n",
      "b'<?xml version=\"1.0\" encoding=\"UTF-8\" standalone=\"yes\"?><response><header><resultCode>00</resultCode><resultMsg>NORMAL SERVICE.</resultMsg></header><body><items><item><dateKind>01</dateKind><dateName>\\xec\\x8b\\xa0\\xec\\xa0\\x95</dateName><isHoliday>Y</isHoliday><locdate>20170101</locdate><seq>1</seq></item><item><dateKind>01</dateKind><dateName>\\xec\\x84\\xa4\\xeb\\x82\\xa0</dateName><isHoliday>Y</isHoliday><locdate>20170127</locdate><seq>1</seq></item><item><dateKind>01</dateKind><dateName>\\xec\\x84\\xa4\\xeb\\x82\\xa0</dateName><isHoliday>Y</isHoliday><locdate>20170128</locdate><seq>1</seq></item><item><dateKind>01</dateKind><dateName>\\xec\\x84\\xa4\\xeb\\x82\\xa0</dateName><isHoliday>Y</isHoliday><locdate>20170129</locdate><seq>1</seq></item><item><dateKind>01</dateKind><dateName>\\xeb\\x8c\\x80\\xec\\xb2\\xb4\\xea\\xb3\\xb5\\xed\\x9c\\xb4\\xec\\x9d\\xbc</dateName><isHoliday>Y</isHoliday><locdate>20170130</locdate><seq>1</seq></item></items><numOfRows>10</numOfRows><pageNo>1</pageNo><totalCount>5</totalCount></body></response>'\n",
      "b'<?xml version=\"1.0\" encoding=\"UTF-8\" standalone=\"yes\"?><response><header><resultCode>00</resultCode><resultMsg>NORMAL SERVICE.</resultMsg></header><body><items/><numOfRows>10</numOfRows><pageNo>1</pageNo><totalCount>0</totalCount></body></response>'\n",
      "b'<?xml version=\"1.0\" encoding=\"UTF-8\" standalone=\"yes\"?><response><header><resultCode>00</resultCode><resultMsg>NORMAL SERVICE.</resultMsg></header><body><items><item><dateKind>01</dateKind><dateName>\\xec\\x82\\xbc\\xec\\x9d\\xbc\\xec\\xa0\\x88</dateName><isHoliday>Y</isHoliday><locdate>20170301</locdate><seq>1</seq></item></items><numOfRows>10</numOfRows><pageNo>1</pageNo><totalCount>1</totalCount></body></response>'\n",
      "b'<?xml version=\"1.0\" encoding=\"UTF-8\" standalone=\"yes\"?><response><header><resultCode>00</resultCode><resultMsg>NORMAL SERVICE.</resultMsg></header><body><items/><numOfRows>10</numOfRows><pageNo>1</pageNo><totalCount>0</totalCount></body></response>'\n",
      "b'<?xml version=\"1.0\" encoding=\"UTF-8\" standalone=\"yes\"?><response><header><resultCode>00</resultCode><resultMsg>NORMAL SERVICE.</resultMsg></header><body><items><item><dateKind>01</dateKind><dateName>\\xec\\x84\\x9d\\xea\\xb0\\x80\\xed\\x83\\x84\\xec\\x8b\\xa0\\xec\\x9d\\xbc</dateName><isHoliday>Y</isHoliday><locdate>20170503</locdate><seq>1</seq></item><item><dateKind>01</dateKind><dateName>\\xec\\x96\\xb4\\xeb\\xa6\\xb0\\xec\\x9d\\xb4\\xeb\\x82\\xa0</dateName><isHoliday>Y</isHoliday><locdate>20170505</locdate><seq>1</seq></item><item><dateKind>01</dateKind><dateName>\\xeb\\x8c\\x80\\xed\\x86\\xb5\\xeb\\xa0\\xb9\\xec\\x84\\xa0\\xea\\xb1\\xb0\\xec\\x9d\\xbc</dateName><isHoliday>Y</isHoliday><locdate>20170509</locdate><seq>1</seq></item></items><numOfRows>10</numOfRows><pageNo>1</pageNo><totalCount>3</totalCount></body></response>'\n",
      "b'<?xml version=\"1.0\" encoding=\"UTF-8\" standalone=\"yes\"?><response><header><resultCode>00</resultCode><resultMsg>NORMAL SERVICE.</resultMsg></header><body><items><item><dateKind>01</dateKind><dateName>\\xed\\x98\\x84\\xec\\xb6\\xa9\\xec\\x9d\\xbc</dateName><isHoliday>Y</isHoliday><locdate>20170606</locdate><seq>1</seq></item></items><numOfRows>10</numOfRows><pageNo>1</pageNo><totalCount>1</totalCount></body></response>'\n",
      "b'<?xml version=\"1.0\" encoding=\"UTF-8\" standalone=\"yes\"?><response><header><resultCode>00</resultCode><resultMsg>NORMAL SERVICE.</resultMsg></header><body><items><item><dateKind>01</dateKind><dateName>\\xec\\xa0\\x9c\\xed\\x97\\x8c\\xec\\xa0\\x88</dateName><isHoliday>N</isHoliday><locdate>20170717</locdate><remarks>\\xea\\xb5\\xad\\xea\\xb2\\xbd\\xec\\x9d\\xbc(2014. 12. 30. \\xeb\\xb2\\x95\\xeb\\xa5\\xa0 12915\\xed\\x98\\xb8)\\xec\\x9d\\xb4\\xec\\xa7\\x80\\xeb\\xa7\\x8c \\xea\\xb4\\x80\\xea\\xb3\\xb5\\xec\\x84\\x9c\\xec\\x9d\\x98 \\xea\\xb3\\xb5\\xed\\x9c\\xb4\\xec\\x9d\\xbc(2013. 11. 05. \\xeb\\x8c\\x80\\xed\\x86\\xb5\\xeb\\xa0\\xb9\\xeb\\xa0\\xb9 24828\\xed\\x98\\xb8)\\xec\\x9d\\xb4 \\xec\\x95\\x84\\xeb\\x8b\\x98.</remarks><seq>1</seq></item></items><numOfRows>10</numOfRows><pageNo>1</pageNo><totalCount>1</totalCount></body></response>'\n",
      "b'<?xml version=\"1.0\" encoding=\"UTF-8\" standalone=\"yes\"?><response><header><resultCode>00</resultCode><resultMsg>NORMAL SERVICE.</resultMsg></header><body><items><item><dateKind>01</dateKind><dateName>\\xea\\xb4\\x91\\xeb\\xb3\\xb5\\xec\\xa0\\x88</dateName><isHoliday>Y</isHoliday><locdate>20170815</locdate><seq>1</seq></item></items><numOfRows>10</numOfRows><pageNo>1</pageNo><totalCount>1</totalCount></body></response>'\n",
      "b'<?xml version=\"1.0\" encoding=\"UTF-8\" standalone=\"yes\"?><response><header><resultCode>00</resultCode><resultMsg>NORMAL SERVICE.</resultMsg></header><body><items/><numOfRows>10</numOfRows><pageNo>1</pageNo><totalCount>0</totalCount></body></response>'\n",
      "b'<?xml version=\"1.0\" encoding=\"UTF-8\" standalone=\"yes\"?><response><header><resultCode>00</resultCode><resultMsg>NORMAL SERVICE.</resultMsg></header><body><items><item><dateKind>01</dateKind><dateName>\\xec\\x9e\\x84\\xec\\x8b\\x9c\\xea\\xb3\\xb5\\xed\\x9c\\xb4\\xec\\x9d\\xbc</dateName><isHoliday>Y</isHoliday><locdate>20171002</locdate><seq>2</seq></item><item><dateKind>01</dateKind><dateName>\\xea\\xb0\\x9c\\xec\\xb2\\x9c\\xec\\xa0\\x88</dateName><isHoliday>Y</isHoliday><locdate>20171003</locdate><seq>1</seq></item><item><dateKind>01</dateKind><dateName>\\xec\\xb6\\x94\\xec\\x84\\x9d</dateName><isHoliday>Y</isHoliday><locdate>20171003</locdate><seq>2</seq></item><item><dateKind>01</dateKind><dateName>\\xec\\xb6\\x94\\xec\\x84\\x9d</dateName><isHoliday>Y</isHoliday><locdate>20171004</locdate><seq>1</seq></item><item><dateKind>01</dateKind><dateName>\\xec\\xb6\\x94\\xec\\x84\\x9d</dateName><isHoliday>Y</isHoliday><locdate>20171005</locdate><seq>1</seq></item><item><dateKind>01</dateKind><dateName>\\xeb\\x8c\\x80\\xec\\xb2\\xb4\\xea\\xb3\\xb5\\xed\\x9c\\xb4\\xec\\x9d\\xbc</dateName><isHoliday>Y</isHoliday><locdate>20171006</locdate><seq>1</seq></item><item><dateKind>01</dateKind><dateName>\\xed\\x95\\x9c\\xea\\xb8\\x80\\xeb\\x82\\xa0</dateName><isHoliday>Y</isHoliday><locdate>20171009</locdate><seq>1</seq></item></items><numOfRows>10</numOfRows><pageNo>1</pageNo><totalCount>7</totalCount></body></response>'\n"
     ]
    },
    {
     "name": "stdout",
     "output_type": "stream",
     "text": [
      "b'<?xml version=\"1.0\" encoding=\"UTF-8\" standalone=\"yes\"?><response><header><resultCode>00</resultCode><resultMsg>NORMAL SERVICE.</resultMsg></header><body><items/><numOfRows>10</numOfRows><pageNo>1</pageNo><totalCount>0</totalCount></body></response>'\n",
      "b'<?xml version=\"1.0\" encoding=\"UTF-8\" standalone=\"yes\"?><response><header><resultCode>00</resultCode><resultMsg>NORMAL SERVICE.</resultMsg></header><body><items><item><dateKind>01</dateKind><dateName>\\xea\\xb8\\xb0\\xeb\\x8f\\x85\\xed\\x83\\x84\\xec\\x8b\\xa0\\xec\\x9d\\xbc</dateName><isHoliday>Y</isHoliday><locdate>20171225</locdate><seq>1</seq></item></items><numOfRows>10</numOfRows><pageNo>1</pageNo><totalCount>1</totalCount></body></response>'\n",
      "b'<?xml version=\"1.0\" encoding=\"UTF-8\" standalone=\"yes\"?><response><header><resultCode>00</resultCode><resultMsg>NORMAL SERVICE.</resultMsg></header><body><items><item><dateKind>01</dateKind><dateName>\\xec\\x8b\\xa0\\xec\\xa0\\x95</dateName><isHoliday>Y</isHoliday><locdate>20160101</locdate><seq>1</seq></item></items><numOfRows>10</numOfRows><pageNo>1</pageNo><totalCount>1</totalCount></body></response>'\n",
      "b'<?xml version=\"1.0\" encoding=\"UTF-8\" standalone=\"yes\"?><response><header><resultCode>00</resultCode><resultMsg>NORMAL SERVICE.</resultMsg></header><body><items><item><dateKind>01</dateKind><dateName>\\xec\\x84\\xa4\\xeb\\x82\\xa0</dateName><isHoliday>Y</isHoliday><locdate>20160207</locdate><seq>1</seq></item><item><dateKind>01</dateKind><dateName>\\xec\\x84\\xa4\\xeb\\x82\\xa0</dateName><isHoliday>Y</isHoliday><locdate>20160208</locdate><seq>1</seq></item><item><dateKind>01</dateKind><dateName>\\xec\\x84\\xa4\\xeb\\x82\\xa0</dateName><isHoliday>Y</isHoliday><locdate>20160209</locdate><seq>1</seq></item><item><dateKind>01</dateKind><dateName>\\xeb\\x8c\\x80\\xec\\xb2\\xb4\\xea\\xb3\\xb5\\xed\\x9c\\xb4\\xec\\x9d\\xbc</dateName><isHoliday>Y</isHoliday><locdate>20160210</locdate><seq>1</seq></item></items><numOfRows>10</numOfRows><pageNo>1</pageNo><totalCount>4</totalCount></body></response>'\n",
      "b'<?xml version=\"1.0\" encoding=\"UTF-8\" standalone=\"yes\"?><response><header><resultCode>00</resultCode><resultMsg>NORMAL SERVICE.</resultMsg></header><body><items><item><dateKind>01</dateKind><dateName>\\xec\\x82\\xbc\\xec\\x9d\\xbc\\xec\\xa0\\x88</dateName><isHoliday>Y</isHoliday><locdate>20160301</locdate><seq>1</seq></item></items><numOfRows>10</numOfRows><pageNo>1</pageNo><totalCount>1</totalCount></body></response>'\n",
      "b'<?xml version=\"1.0\" encoding=\"UTF-8\" standalone=\"yes\"?><response><header><resultCode>00</resultCode><resultMsg>NORMAL SERVICE.</resultMsg></header><body><items><item><dateKind>01</dateKind><dateName>\\xea\\xb5\\xad\\xed\\x9a\\x8c\\xec\\x9d\\x98\\xec\\x9b\\x90\\xec\\x84\\xa0\\xea\\xb1\\xb0\\xec\\x9d\\xbc</dateName><isHoliday>Y</isHoliday><locdate>20160413</locdate><seq>1</seq></item></items><numOfRows>10</numOfRows><pageNo>1</pageNo><totalCount>1</totalCount></body></response>'\n",
      "b'<?xml version=\"1.0\" encoding=\"UTF-8\" standalone=\"yes\"?><response><header><resultCode>00</resultCode><resultMsg>NORMAL SERVICE.</resultMsg></header><body><items><item><dateKind>01</dateKind><dateName>\\xec\\x96\\xb4\\xeb\\xa6\\xb0\\xec\\x9d\\xb4\\xeb\\x82\\xa0</dateName><isHoliday>Y</isHoliday><locdate>20160505</locdate><seq>1</seq></item><item><dateKind>01</dateKind><dateName>\\xec\\x84\\x9d\\xea\\xb0\\x80\\xed\\x83\\x84\\xec\\x8b\\xa0\\xec\\x9d\\xbc</dateName><isHoliday>Y</isHoliday><locdate>20160514</locdate><seq>1</seq></item></items><numOfRows>10</numOfRows><pageNo>1</pageNo><totalCount>2</totalCount></body></response>'\n",
      "b'<?xml version=\"1.0\" encoding=\"UTF-8\" standalone=\"yes\"?><response><header><resultCode>00</resultCode><resultMsg>NORMAL SERVICE.</resultMsg></header><body><items><item><dateKind>01</dateKind><dateName>\\xed\\x98\\x84\\xec\\xb6\\xa9\\xec\\x9d\\xbc</dateName><isHoliday>Y</isHoliday><locdate>20160606</locdate><seq>1</seq></item></items><numOfRows>10</numOfRows><pageNo>1</pageNo><totalCount>1</totalCount></body></response>'\n",
      "b'<?xml version=\"1.0\" encoding=\"UTF-8\" standalone=\"yes\"?><response><header><resultCode>00</resultCode><resultMsg>NORMAL SERVICE.</resultMsg></header><body><items><item><dateKind>01</dateKind><dateName>\\xec\\xa0\\x9c\\xed\\x97\\x8c\\xec\\xa0\\x88</dateName><isHoliday>N</isHoliday><locdate>20160717</locdate><remarks>\\xea\\xb5\\xad\\xea\\xb2\\xbd\\xec\\x9d\\xbc(2014. 12. 30. \\xeb\\xb2\\x95\\xeb\\xa5\\xa0 12915\\xed\\x98\\xb8)\\xec\\x9d\\xb4\\xec\\xa7\\x80\\xeb\\xa7\\x8c \\xea\\xb4\\x80\\xea\\xb3\\xb5\\xec\\x84\\x9c\\xec\\x9d\\x98 \\xea\\xb3\\xb5\\xed\\x9c\\xb4\\xec\\x9d\\xbc(2013. 11. 05. \\xeb\\x8c\\x80\\xed\\x86\\xb5\\xeb\\xa0\\xb9\\xeb\\xa0\\xb9 24828\\xed\\x98\\xb8)\\xec\\x9d\\xb4 \\xec\\x95\\x84\\xeb\\x8b\\x98.</remarks><seq>1</seq></item></items><numOfRows>10</numOfRows><pageNo>1</pageNo><totalCount>1</totalCount></body></response>'\n",
      "b'<?xml version=\"1.0\" encoding=\"UTF-8\" standalone=\"yes\"?><response><header><resultCode>00</resultCode><resultMsg>NORMAL SERVICE.</resultMsg></header><body><items><item><dateKind>01</dateKind><dateName>\\xea\\xb4\\x91\\xeb\\xb3\\xb5\\xec\\xa0\\x88</dateName><isHoliday>Y</isHoliday><locdate>20160815</locdate><seq>1</seq></item></items><numOfRows>10</numOfRows><pageNo>1</pageNo><totalCount>1</totalCount></body></response>'\n",
      "b'<?xml version=\"1.0\" encoding=\"UTF-8\" standalone=\"yes\"?><response><header><resultCode>00</resultCode><resultMsg>NORMAL SERVICE.</resultMsg></header><body><items><item><dateKind>01</dateKind><dateName>\\xec\\xb6\\x94\\xec\\x84\\x9d</dateName><isHoliday>Y</isHoliday><locdate>20160914</locdate><seq>1</seq></item><item><dateKind>01</dateKind><dateName>\\xec\\xb6\\x94\\xec\\x84\\x9d</dateName><isHoliday>Y</isHoliday><locdate>20160915</locdate><seq>1</seq></item><item><dateKind>01</dateKind><dateName>\\xec\\xb6\\x94\\xec\\x84\\x9d</dateName><isHoliday>Y</isHoliday><locdate>20160916</locdate><seq>1</seq></item></items><numOfRows>10</numOfRows><pageNo>1</pageNo><totalCount>3</totalCount></body></response>'\n",
      "b'<?xml version=\"1.0\" encoding=\"UTF-8\" standalone=\"yes\"?><response><header><resultCode>00</resultCode><resultMsg>NORMAL SERVICE.</resultMsg></header><body><items><item><dateKind>01</dateKind><dateName>\\xea\\xb0\\x9c\\xec\\xb2\\x9c\\xec\\xa0\\x88</dateName><isHoliday>Y</isHoliday><locdate>20161003</locdate><seq>1</seq></item><item><dateKind>01</dateKind><dateName>\\xed\\x95\\x9c\\xea\\xb8\\x80\\xeb\\x82\\xa0</dateName><isHoliday>Y</isHoliday><locdate>20161009</locdate><seq>1</seq></item></items><numOfRows>10</numOfRows><pageNo>1</pageNo><totalCount>2</totalCount></body></response>'\n",
      "b'<?xml version=\"1.0\" encoding=\"UTF-8\" standalone=\"yes\"?><response><header><resultCode>00</resultCode><resultMsg>NORMAL SERVICE.</resultMsg></header><body><items/><numOfRows>10</numOfRows><pageNo>1</pageNo><totalCount>0</totalCount></body></response>'\n",
      "b'<?xml version=\"1.0\" encoding=\"UTF-8\" standalone=\"yes\"?><response><header><resultCode>00</resultCode><resultMsg>NORMAL SERVICE.</resultMsg></header><body><items><item><dateKind>01</dateKind><dateName>\\xea\\xb8\\xb0\\xeb\\x8f\\x85\\xed\\x83\\x84\\xec\\x8b\\xa0\\xec\\x9d\\xbc</dateName><isHoliday>Y</isHoliday><locdate>20161225</locdate><seq>1</seq></item></items><numOfRows>10</numOfRows><pageNo>1</pageNo><totalCount>1</totalCount></body></response>'\n",
      "b'<?xml version=\"1.0\" encoding=\"UTF-8\" standalone=\"yes\"?><response><header><resultCode>00</resultCode><resultMsg>NORMAL SERVICE.</resultMsg></header><body><items><item><dateKind>01</dateKind><dateName>\\xec\\x8b\\xa0\\xec\\xa0\\x95</dateName><isHoliday>Y</isHoliday><locdate>20150101</locdate><seq>1</seq></item></items><numOfRows>10</numOfRows><pageNo>1</pageNo><totalCount>1</totalCount></body></response>'\n",
      "b'<?xml version=\"1.0\" encoding=\"UTF-8\" standalone=\"yes\"?><response><header><resultCode>00</resultCode><resultMsg>NORMAL SERVICE.</resultMsg></header><body><items><item><dateKind>01</dateKind><dateName>\\xec\\x84\\xa4\\xeb\\x82\\xa0</dateName><isHoliday>Y</isHoliday><locdate>20150218</locdate><seq>1</seq></item><item><dateKind>01</dateKind><dateName>\\xec\\x84\\xa4\\xeb\\x82\\xa0</dateName><isHoliday>Y</isHoliday><locdate>20150219</locdate><seq>1</seq></item><item><dateKind>01</dateKind><dateName>\\xec\\x84\\xa4\\xeb\\x82\\xa0</dateName><isHoliday>Y</isHoliday><locdate>20150220</locdate><seq>1</seq></item></items><numOfRows>10</numOfRows><pageNo>1</pageNo><totalCount>3</totalCount></body></response>'\n",
      "b'<?xml version=\"1.0\" encoding=\"UTF-8\" standalone=\"yes\"?><response><header><resultCode>00</resultCode><resultMsg>NORMAL SERVICE.</resultMsg></header><body><items><item><dateKind>01</dateKind><dateName>\\xec\\x82\\xbc\\xec\\x9d\\xbc\\xec\\xa0\\x88</dateName><isHoliday>Y</isHoliday><locdate>20150301</locdate><seq>1</seq></item></items><numOfRows>10</numOfRows><pageNo>1</pageNo><totalCount>1</totalCount></body></response>'\n"
     ]
    },
    {
     "name": "stdout",
     "output_type": "stream",
     "text": [
      "b'<?xml version=\"1.0\" encoding=\"UTF-8\" standalone=\"yes\"?><response><header><resultCode>00</resultCode><resultMsg>NORMAL SERVICE.</resultMsg></header><body><items/><numOfRows>10</numOfRows><pageNo>1</pageNo><totalCount>0</totalCount></body></response>'\n",
      "b'<?xml version=\"1.0\" encoding=\"UTF-8\" standalone=\"yes\"?><response><header><resultCode>00</resultCode><resultMsg>NORMAL SERVICE.</resultMsg></header><body><items><item><dateKind>01</dateKind><dateName>\\xec\\x96\\xb4\\xeb\\xa6\\xb0\\xec\\x9d\\xb4\\xeb\\x82\\xa0</dateName><isHoliday>Y</isHoliday><locdate>20150505</locdate><seq>1</seq></item><item><dateKind>01</dateKind><dateName>\\xec\\x84\\x9d\\xea\\xb0\\x80\\xed\\x83\\x84\\xec\\x8b\\xa0\\xec\\x9d\\xbc</dateName><isHoliday>Y</isHoliday><locdate>20150525</locdate><seq>1</seq></item></items><numOfRows>10</numOfRows><pageNo>1</pageNo><totalCount>2</totalCount></body></response>'\n",
      "b'<?xml version=\"1.0\" encoding=\"UTF-8\" standalone=\"yes\"?><response><header><resultCode>00</resultCode><resultMsg>NORMAL SERVICE.</resultMsg></header><body><items><item><dateKind>01</dateKind><dateName>\\xed\\x98\\x84\\xec\\xb6\\xa9\\xec\\x9d\\xbc</dateName><isHoliday>Y</isHoliday><locdate>20150606</locdate><seq>1</seq></item></items><numOfRows>10</numOfRows><pageNo>1</pageNo><totalCount>1</totalCount></body></response>'\n",
      "b'<?xml version=\"1.0\" encoding=\"UTF-8\" standalone=\"yes\"?><response><header><resultCode>00</resultCode><resultMsg>NORMAL SERVICE.</resultMsg></header><body><items><item><dateKind>01</dateKind><dateName>\\xec\\xa0\\x9c\\xed\\x97\\x8c\\xec\\xa0\\x88</dateName><isHoliday>N</isHoliday><locdate>20150717</locdate><remarks>\\xea\\xb5\\xad\\xea\\xb2\\xbd\\xec\\x9d\\xbc(2005. 12. 29. \\xeb\\xb2\\x95\\xeb\\xa5\\xa0 7771\\xed\\x98\\xb8)\\xec\\x9d\\xb4\\xec\\xa7\\x80\\xeb\\xa7\\x8c \\xea\\xb4\\x80\\xea\\xb3\\xb5\\xec\\x84\\x9c\\xec\\x9d\\x98 \\xea\\xb3\\xb5\\xed\\x9c\\xb4\\xec\\x9d\\xbc(2012. 12. 28. \\xeb\\x8c\\x80\\xed\\x86\\xb5\\xeb\\xa0\\xb9\\xeb\\xa0\\xb9 24273\\xed\\x98\\xb8)\\xec\\x9d\\xb4 \\xec\\x95\\x84\\xeb\\x8b\\x98.</remarks><seq>1</seq></item></items><numOfRows>10</numOfRows><pageNo>1</pageNo><totalCount>1</totalCount></body></response>'\n",
      "b'<?xml version=\"1.0\" encoding=\"UTF-8\" standalone=\"yes\"?><response><header><resultCode>00</resultCode><resultMsg>NORMAL SERVICE.</resultMsg></header><body><items><item><dateKind>01</dateKind><dateName>\\xea\\xb4\\x91\\xeb\\xb3\\xb5\\xec\\xa0\\x88</dateName><isHoliday>Y</isHoliday><locdate>20150815</locdate><seq>1</seq></item></items><numOfRows>10</numOfRows><pageNo>1</pageNo><totalCount>1</totalCount></body></response>'\n",
      "b'<?xml version=\"1.0\" encoding=\"UTF-8\" standalone=\"yes\"?><response><header><resultCode>00</resultCode><resultMsg>NORMAL SERVICE.</resultMsg></header><body><items><item><dateKind>01</dateKind><dateName>\\xec\\xb6\\x94\\xec\\x84\\x9d</dateName><isHoliday>Y</isHoliday><locdate>20150926</locdate><seq>1</seq></item><item><dateKind>01</dateKind><dateName>\\xec\\xb6\\x94\\xec\\x84\\x9d</dateName><isHoliday>Y</isHoliday><locdate>20150927</locdate><seq>1</seq></item><item><dateKind>01</dateKind><dateName>\\xec\\xb6\\x94\\xec\\x84\\x9d</dateName><isHoliday>Y</isHoliday><locdate>20150928</locdate><seq>1</seq></item><item><dateKind>01</dateKind><dateName>\\xeb\\x8c\\x80\\xec\\xb2\\xb4\\xea\\xb3\\xb5\\xed\\x9c\\xb4\\xec\\x9d\\xbc</dateName><isHoliday>Y</isHoliday><locdate>20150929</locdate><seq>1</seq></item></items><numOfRows>10</numOfRows><pageNo>1</pageNo><totalCount>4</totalCount></body></response>'\n",
      "b'<?xml version=\"1.0\" encoding=\"UTF-8\" standalone=\"yes\"?><response><header><resultCode>00</resultCode><resultMsg>NORMAL SERVICE.</resultMsg></header><body><items><item><dateKind>01</dateKind><dateName>\\xea\\xb0\\x9c\\xec\\xb2\\x9c\\xec\\xa0\\x88</dateName><isHoliday>Y</isHoliday><locdate>20151003</locdate><seq>1</seq></item><item><dateKind>01</dateKind><dateName>\\xed\\x95\\x9c\\xea\\xb8\\x80\\xeb\\x82\\xa0</dateName><isHoliday>Y</isHoliday><locdate>20151009</locdate><seq>1</seq></item></items><numOfRows>10</numOfRows><pageNo>1</pageNo><totalCount>2</totalCount></body></response>'\n",
      "b'<?xml version=\"1.0\" encoding=\"UTF-8\" standalone=\"yes\"?><response><header><resultCode>00</resultCode><resultMsg>NORMAL SERVICE.</resultMsg></header><body><items/><numOfRows>10</numOfRows><pageNo>1</pageNo><totalCount>0</totalCount></body></response>'\n",
      "b'<?xml version=\"1.0\" encoding=\"UTF-8\" standalone=\"yes\"?><response><header><resultCode>00</resultCode><resultMsg>NORMAL SERVICE.</resultMsg></header><body><items><item><dateKind>01</dateKind><dateName>\\xea\\xb8\\xb0\\xeb\\x8f\\x85\\xed\\x83\\x84\\xec\\x8b\\xa0\\xec\\x9d\\xbc</dateName><isHoliday>Y</isHoliday><locdate>20151225</locdate><seq>1</seq></item></items><numOfRows>10</numOfRows><pageNo>1</pageNo><totalCount>1</totalCount></body></response>'\n"
     ]
    }
   ],
   "source": [
    "response_xmls = []\n",
    "for i in range(query_lists):\n",
    "    response = requests.get(url=request_querys[i])\n",
    "    response_xml = urlopen(request_querys[i]).read()\n",
    "    print(response_xml)\n",
    "    response_xmls.append(response_xml)\n",
    "    "
   ]
  },
  {
   "cell_type": "code",
   "execution_count": 418,
   "metadata": {},
   "outputs": [],
   "source": [
    "response_xml_lists = len(response_xmls)"
   ]
  },
  {
   "cell_type": "code",
   "execution_count": 419,
   "metadata": {},
   "outputs": [
    {
     "data": {
      "text/plain": [
       "60"
      ]
     },
     "execution_count": 419,
     "metadata": {},
     "output_type": "execute_result"
    }
   ],
   "source": [
    "response_xml_lists"
   ]
  },
  {
   "cell_type": "code",
   "execution_count": 420,
   "metadata": {},
   "outputs": [
    {
     "data": {
      "text/plain": [
       "b'<?xml version=\"1.0\" encoding=\"UTF-8\" standalone=\"yes\"?><response><header><resultCode>00</resultCode><resultMsg>NORMAL SERVICE.</resultMsg></header><body><items><item><dateKind>01</dateKind><dateName>\\xec\\x82\\xbc\\xec\\x9d\\xbc\\xec\\xa0\\x88</dateName><isHoliday>Y</isHoliday><locdate>20190301</locdate><seq>1</seq></item></items><numOfRows>10</numOfRows><pageNo>1</pageNo><totalCount>1</totalCount></body></response>'"
      ]
     },
     "execution_count": 420,
     "metadata": {},
     "output_type": "execute_result"
    }
   ],
   "source": [
    "response_xmls[2]"
   ]
  },
  {
   "cell_type": "code",
   "execution_count": 421,
   "metadata": {},
   "outputs": [
    {
     "name": "stdout",
     "output_type": "stream",
     "text": [
      "<?xml version=\"1.0\" encoding=\"UTF-8\" standalone=\"yes\"?><response><header><resultcode>00</resultcode><resultmsg>NORMAL SERVICE.</resultmsg></header><body><items><item><datekind>01</datekind><datename>1월1일</datename><isholiday>Y</isholiday><locdate>20190101</locdate><seq>1</seq></item></items><numofrows>10</numofrows><pageno>1</pageno><totalcount>1</totalcount></body></response>\n",
      "<?xml version=\"1.0\" encoding=\"UTF-8\" standalone=\"yes\"?><response><header><resultcode>00</resultcode><resultmsg>NORMAL SERVICE.</resultmsg></header><body><items><item><datekind>01</datekind><datename>설날</datename><isholiday>Y</isholiday><locdate>20190204</locdate><seq>1</seq></item><item><datekind>01</datekind><datename>설날</datename><isholiday>Y</isholiday><locdate>20190205</locdate><seq>1</seq></item><item><datekind>01</datekind><datename>설날</datename><isholiday>Y</isholiday><locdate>20190206</locdate><seq>1</seq></item></items><numofrows>10</numofrows><pageno>1</pageno><totalcount>3</totalcount></body></response>\n",
      "<?xml version=\"1.0\" encoding=\"UTF-8\" standalone=\"yes\"?><response><header><resultcode>00</resultcode><resultmsg>NORMAL SERVICE.</resultmsg></header><body><items><item><datekind>01</datekind><datename>삼일절</datename><isholiday>Y</isholiday><locdate>20190301</locdate><seq>1</seq></item></items><numofrows>10</numofrows><pageno>1</pageno><totalcount>1</totalcount></body></response>\n",
      "<?xml version=\"1.0\" encoding=\"UTF-8\" standalone=\"yes\"?><response><header><resultcode>00</resultcode><resultmsg>NORMAL SERVICE.</resultmsg></header><body><items></items><numofrows>10</numofrows><pageno>1</pageno><totalcount>0</totalcount></body></response>\n",
      "<?xml version=\"1.0\" encoding=\"UTF-8\" standalone=\"yes\"?><response><header><resultcode>00</resultcode><resultmsg>NORMAL SERVICE.</resultmsg></header><body><items><item><datekind>01</datekind><datename>어린이날</datename><isholiday>Y</isholiday><locdate>20190505</locdate><seq>1</seq></item><item><datekind>01</datekind><datename>대체공휴일</datename><isholiday>Y</isholiday><locdate>20190506</locdate><seq>1</seq></item><item><datekind>01</datekind><datename>부처님오신날</datename><isholiday>Y</isholiday><locdate>20190512</locdate><seq>1</seq></item></items><numofrows>10</numofrows><pageno>1</pageno><totalcount>3</totalcount></body></response>\n",
      "<?xml version=\"1.0\" encoding=\"UTF-8\" standalone=\"yes\"?><response><header><resultcode>00</resultcode><resultmsg>NORMAL SERVICE.</resultmsg></header><body><items><item><datekind>01</datekind><datename>현충일</datename><isholiday>Y</isholiday><locdate>20190606</locdate><seq>1</seq></item></items><numofrows>10</numofrows><pageno>1</pageno><totalcount>1</totalcount></body></response>\n",
      "<?xml version=\"1.0\" encoding=\"UTF-8\" standalone=\"yes\"?><response><header><resultcode>00</resultcode><resultmsg>NORMAL SERVICE.</resultmsg></header><body><items><item><datekind>01</datekind><datename>제헌절</datename><isholiday>N</isholiday><locdate>20190717</locdate><remarks>국경일이지만, 관공서의 공휴일이 아님.</remarks><seq>1</seq></item></items><numofrows>10</numofrows><pageno>1</pageno><totalcount>1</totalcount></body></response>\n",
      "<?xml version=\"1.0\" encoding=\"UTF-8\" standalone=\"yes\"?><response><header><resultcode>00</resultcode><resultmsg>NORMAL SERVICE.</resultmsg></header><body><items><item><datekind>01</datekind><datename>광복절</datename><isholiday>Y</isholiday><locdate>20190815</locdate><seq>1</seq></item></items><numofrows>10</numofrows><pageno>1</pageno><totalcount>1</totalcount></body></response>\n",
      "<?xml version=\"1.0\" encoding=\"UTF-8\" standalone=\"yes\"?><response><header><resultcode>00</resultcode><resultmsg>NORMAL SERVICE.</resultmsg></header><body><items><item><datekind>01</datekind><datename>추석</datename><isholiday>Y</isholiday><locdate>20190912</locdate><seq>1</seq></item><item><datekind>01</datekind><datename>추석</datename><isholiday>Y</isholiday><locdate>20190913</locdate><seq>1</seq></item><item><datekind>01</datekind><datename>추석</datename><isholiday>Y</isholiday><locdate>20190914</locdate><seq>1</seq></item></items><numofrows>10</numofrows><pageno>1</pageno><totalcount>3</totalcount></body></response>\n",
      "<?xml version=\"1.0\" encoding=\"UTF-8\" standalone=\"yes\"?><response><header><resultcode>00</resultcode><resultmsg>NORMAL SERVICE.</resultmsg></header><body><items><item><datekind>01</datekind><datename>개천절</datename><isholiday>Y</isholiday><locdate>20191003</locdate><seq>1</seq></item><item><datekind>01</datekind><datename>한글날</datename><isholiday>Y</isholiday><locdate>20191009</locdate><seq>1</seq></item></items><numofrows>10</numofrows><pageno>1</pageno><totalcount>2</totalcount></body></response>\n",
      "<?xml version=\"1.0\" encoding=\"UTF-8\" standalone=\"yes\"?><response><header><resultcode>00</resultcode><resultmsg>NORMAL SERVICE.</resultmsg></header><body><items></items><numofrows>10</numofrows><pageno>1</pageno><totalcount>0</totalcount></body></response>\n",
      "<?xml version=\"1.0\" encoding=\"UTF-8\" standalone=\"yes\"?><response><header><resultcode>00</resultcode><resultmsg>NORMAL SERVICE.</resultmsg></header><body><items><item><datekind>01</datekind><datename>기독탄신일</datename><isholiday>Y</isholiday><locdate>20191225</locdate><seq>1</seq></item></items><numofrows>10</numofrows><pageno>1</pageno><totalcount>1</totalcount></body></response>\n",
      "<?xml version=\"1.0\" encoding=\"UTF-8\" standalone=\"yes\"?><response><header><resultcode>00</resultcode><resultmsg>NORMAL SERVICE.</resultmsg></header><body><items><item><datekind>01</datekind><datename>1월1일</datename><isholiday>Y</isholiday><locdate>20180101</locdate><seq>1</seq></item></items><numofrows>10</numofrows><pageno>1</pageno><totalcount>1</totalcount></body></response>\n",
      "<?xml version=\"1.0\" encoding=\"UTF-8\" standalone=\"yes\"?><response><header><resultcode>00</resultcode><resultmsg>NORMAL SERVICE.</resultmsg></header><body><items><item><datekind>01</datekind><datename>설날</datename><isholiday>Y</isholiday><locdate>20180215</locdate><seq>1</seq></item><item><datekind>01</datekind><datename>설날</datename><isholiday>Y</isholiday><locdate>20180216</locdate><seq>1</seq></item><item><datekind>01</datekind><datename>설날</datename><isholiday>Y</isholiday><locdate>20180217</locdate><seq>1</seq></item></items><numofrows>10</numofrows><pageno>1</pageno><totalcount>3</totalcount></body></response>\n",
      "<?xml version=\"1.0\" encoding=\"UTF-8\" standalone=\"yes\"?><response><header><resultcode>00</resultcode><resultmsg>NORMAL SERVICE.</resultmsg></header><body><items><item><datekind>01</datekind><datename>삼일절</datename><isholiday>Y</isholiday><locdate>20180301</locdate><seq>1</seq></item></items><numofrows>10</numofrows><pageno>1</pageno><totalcount>1</totalcount></body></response>\n",
      "<?xml version=\"1.0\" encoding=\"UTF-8\" standalone=\"yes\"?><response><header><resultcode>00</resultcode><resultmsg>NORMAL SERVICE.</resultmsg></header><body><items></items><numofrows>10</numofrows><pageno>1</pageno><totalcount>0</totalcount></body></response>\n",
      "<?xml version=\"1.0\" encoding=\"UTF-8\" standalone=\"yes\"?><response><header><resultcode>00</resultcode><resultmsg>NORMAL SERVICE.</resultmsg></header><body><items><item><datekind>01</datekind><datename>어린이날</datename><isholiday>Y</isholiday><locdate>20180505</locdate><seq>1</seq></item><item><datekind>01</datekind><datename>대체휴무일</datename><isholiday>Y</isholiday><locdate>20180507</locdate><seq>1</seq></item><item><datekind>01</datekind><datename>부처님오신날</datename><isholiday>Y</isholiday><locdate>20180522</locdate><seq>1</seq></item></items><numofrows>10</numofrows><pageno>1</pageno><totalcount>3</totalcount></body></response>\n",
      "<?xml version=\"1.0\" encoding=\"UTF-8\" standalone=\"yes\"?><response><header><resultcode>00</resultcode><resultmsg>NORMAL SERVICE.</resultmsg></header><body><items><item><datekind>01</datekind><datename>현충일</datename><isholiday>Y</isholiday><locdate>20180606</locdate><seq>1</seq></item><item><datekind>01</datekind><datename>전국동시지방선거</datename><isholiday>Y</isholiday><locdate>20180613</locdate><seq>1</seq></item></items><numofrows>10</numofrows><pageno>1</pageno><totalcount>2</totalcount></body></response>\n",
      "<?xml version=\"1.0\" encoding=\"UTF-8\" standalone=\"yes\"?><response><header><resultcode>00</resultcode><resultmsg>NORMAL SERVICE.</resultmsg></header><body><items><item><datekind>01</datekind><datename>제헌절</datename><isholiday>N</isholiday><locdate>20180717</locdate><seq>1</seq></item></items><numofrows>10</numofrows><pageno>1</pageno><totalcount>1</totalcount></body></response>\n",
      "<?xml version=\"1.0\" encoding=\"UTF-8\" standalone=\"yes\"?><response><header><resultcode>00</resultcode><resultmsg>NORMAL SERVICE.</resultmsg></header><body><items><item><datekind>01</datekind><datename>광복절</datename><isholiday>Y</isholiday><locdate>20180815</locdate><seq>1</seq></item></items><numofrows>10</numofrows><pageno>1</pageno><totalcount>1</totalcount></body></response>\n",
      "<?xml version=\"1.0\" encoding=\"UTF-8\" standalone=\"yes\"?><response><header><resultcode>00</resultcode><resultmsg>NORMAL SERVICE.</resultmsg></header><body><items><item><datekind>01</datekind><datename>추석</datename><isholiday>Y</isholiday><locdate>20180923</locdate><seq>1</seq></item><item><datekind>01</datekind><datename>추석</datename><isholiday>Y</isholiday><locdate>20180924</locdate><seq>1</seq></item><item><datekind>01</datekind><datename>추석</datename><isholiday>Y</isholiday><locdate>20180925</locdate><seq>1</seq></item><item><datekind>01</datekind><datename>대체휴무일</datename><isholiday>Y</isholiday><locdate>20180926</locdate><seq>1</seq></item></items><numofrows>10</numofrows><pageno>1</pageno><totalcount>4</totalcount></body></response>\n",
      "<?xml version=\"1.0\" encoding=\"UTF-8\" standalone=\"yes\"?><response><header><resultcode>00</resultcode><resultmsg>NORMAL SERVICE.</resultmsg></header><body><items><item><datekind>01</datekind><datename>개천절</datename><isholiday>Y</isholiday><locdate>20181003</locdate><seq>1</seq></item><item><datekind>01</datekind><datename>한글날</datename><isholiday>Y</isholiday><locdate>20181009</locdate><seq>1</seq></item></items><numofrows>10</numofrows><pageno>1</pageno><totalcount>2</totalcount></body></response>\n",
      "<?xml version=\"1.0\" encoding=\"UTF-8\" standalone=\"yes\"?><response><header><resultcode>00</resultcode><resultmsg>NORMAL SERVICE.</resultmsg></header><body><items></items><numofrows>10</numofrows><pageno>1</pageno><totalcount>0</totalcount></body></response>\n",
      "<?xml version=\"1.0\" encoding=\"UTF-8\" standalone=\"yes\"?><response><header><resultcode>00</resultcode><resultmsg>NORMAL SERVICE.</resultmsg></header><body><items><item><datekind>01</datekind><datename>기독탄신일</datename><isholiday>Y</isholiday><locdate>20181225</locdate><seq>1</seq></item></items><numofrows>10</numofrows><pageno>1</pageno><totalcount>1</totalcount></body></response>\n",
      "<?xml version=\"1.0\" encoding=\"UTF-8\" standalone=\"yes\"?><response><header><resultcode>00</resultcode><resultmsg>NORMAL SERVICE.</resultmsg></header><body><items><item><datekind>01</datekind><datename>신정</datename><isholiday>Y</isholiday><locdate>20170101</locdate><seq>1</seq></item><item><datekind>01</datekind><datename>설날</datename><isholiday>Y</isholiday><locdate>20170127</locdate><seq>1</seq></item><item><datekind>01</datekind><datename>설날</datename><isholiday>Y</isholiday><locdate>20170128</locdate><seq>1</seq></item><item><datekind>01</datekind><datename>설날</datename><isholiday>Y</isholiday><locdate>20170129</locdate><seq>1</seq></item><item><datekind>01</datekind><datename>대체공휴일</datename><isholiday>Y</isholiday><locdate>20170130</locdate><seq>1</seq></item></items><numofrows>10</numofrows><pageno>1</pageno><totalcount>5</totalcount></body></response>\n",
      "<?xml version=\"1.0\" encoding=\"UTF-8\" standalone=\"yes\"?><response><header><resultcode>00</resultcode><resultmsg>NORMAL SERVICE.</resultmsg></header><body><items></items><numofrows>10</numofrows><pageno>1</pageno><totalcount>0</totalcount></body></response>\n",
      "<?xml version=\"1.0\" encoding=\"UTF-8\" standalone=\"yes\"?><response><header><resultcode>00</resultcode><resultmsg>NORMAL SERVICE.</resultmsg></header><body><items><item><datekind>01</datekind><datename>삼일절</datename><isholiday>Y</isholiday><locdate>20170301</locdate><seq>1</seq></item></items><numofrows>10</numofrows><pageno>1</pageno><totalcount>1</totalcount></body></response>\n",
      "<?xml version=\"1.0\" encoding=\"UTF-8\" standalone=\"yes\"?><response><header><resultcode>00</resultcode><resultmsg>NORMAL SERVICE.</resultmsg></header><body><items></items><numofrows>10</numofrows><pageno>1</pageno><totalcount>0</totalcount></body></response>\n",
      "<?xml version=\"1.0\" encoding=\"UTF-8\" standalone=\"yes\"?><response><header><resultcode>00</resultcode><resultmsg>NORMAL SERVICE.</resultmsg></header><body><items><item><datekind>01</datekind><datename>석가탄신일</datename><isholiday>Y</isholiday><locdate>20170503</locdate><seq>1</seq></item><item><datekind>01</datekind><datename>어린이날</datename><isholiday>Y</isholiday><locdate>20170505</locdate><seq>1</seq></item><item><datekind>01</datekind><datename>대통령선거일</datename><isholiday>Y</isholiday><locdate>20170509</locdate><seq>1</seq></item></items><numofrows>10</numofrows><pageno>1</pageno><totalcount>3</totalcount></body></response>\n",
      "<?xml version=\"1.0\" encoding=\"UTF-8\" standalone=\"yes\"?><response><header><resultcode>00</resultcode><resultmsg>NORMAL SERVICE.</resultmsg></header><body><items><item><datekind>01</datekind><datename>현충일</datename><isholiday>Y</isholiday><locdate>20170606</locdate><seq>1</seq></item></items><numofrows>10</numofrows><pageno>1</pageno><totalcount>1</totalcount></body></response>\n",
      "<?xml version=\"1.0\" encoding=\"UTF-8\" standalone=\"yes\"?><response><header><resultcode>00</resultcode><resultmsg>NORMAL SERVICE.</resultmsg></header><body><items><item><datekind>01</datekind><datename>제헌절</datename><isholiday>N</isholiday><locdate>20170717</locdate><remarks>국경일(2014. 12. 30. 법률 12915호)이지만 관공서의 공휴일(2013. 11. 05. 대통령령 24828호)이 아님.</remarks><seq>1</seq></item></items><numofrows>10</numofrows><pageno>1</pageno><totalcount>1</totalcount></body></response>\n",
      "<?xml version=\"1.0\" encoding=\"UTF-8\" standalone=\"yes\"?><response><header><resultcode>00</resultcode><resultmsg>NORMAL SERVICE.</resultmsg></header><body><items><item><datekind>01</datekind><datename>광복절</datename><isholiday>Y</isholiday><locdate>20170815</locdate><seq>1</seq></item></items><numofrows>10</numofrows><pageno>1</pageno><totalcount>1</totalcount></body></response>\n",
      "<?xml version=\"1.0\" encoding=\"UTF-8\" standalone=\"yes\"?><response><header><resultcode>00</resultcode><resultmsg>NORMAL SERVICE.</resultmsg></header><body><items></items><numofrows>10</numofrows><pageno>1</pageno><totalcount>0</totalcount></body></response>\n",
      "<?xml version=\"1.0\" encoding=\"UTF-8\" standalone=\"yes\"?><response><header><resultcode>00</resultcode><resultmsg>NORMAL SERVICE.</resultmsg></header><body><items><item><datekind>01</datekind><datename>임시공휴일</datename><isholiday>Y</isholiday><locdate>20171002</locdate><seq>2</seq></item><item><datekind>01</datekind><datename>개천절</datename><isholiday>Y</isholiday><locdate>20171003</locdate><seq>1</seq></item><item><datekind>01</datekind><datename>추석</datename><isholiday>Y</isholiday><locdate>20171003</locdate><seq>2</seq></item><item><datekind>01</datekind><datename>추석</datename><isholiday>Y</isholiday><locdate>20171004</locdate><seq>1</seq></item><item><datekind>01</datekind><datename>추석</datename><isholiday>Y</isholiday><locdate>20171005</locdate><seq>1</seq></item><item><datekind>01</datekind><datename>대체공휴일</datename><isholiday>Y</isholiday><locdate>20171006</locdate><seq>1</seq></item><item><datekind>01</datekind><datename>한글날</datename><isholiday>Y</isholiday><locdate>20171009</locdate><seq>1</seq></item></items><numofrows>10</numofrows><pageno>1</pageno><totalcount>7</totalcount></body></response>\n",
      "<?xml version=\"1.0\" encoding=\"UTF-8\" standalone=\"yes\"?><response><header><resultcode>00</resultcode><resultmsg>NORMAL SERVICE.</resultmsg></header><body><items></items><numofrows>10</numofrows><pageno>1</pageno><totalcount>0</totalcount></body></response>\n",
      "<?xml version=\"1.0\" encoding=\"UTF-8\" standalone=\"yes\"?><response><header><resultcode>00</resultcode><resultmsg>NORMAL SERVICE.</resultmsg></header><body><items><item><datekind>01</datekind><datename>기독탄신일</datename><isholiday>Y</isholiday><locdate>20171225</locdate><seq>1</seq></item></items><numofrows>10</numofrows><pageno>1</pageno><totalcount>1</totalcount></body></response>\n",
      "<?xml version=\"1.0\" encoding=\"UTF-8\" standalone=\"yes\"?><response><header><resultcode>00</resultcode><resultmsg>NORMAL SERVICE.</resultmsg></header><body><items><item><datekind>01</datekind><datename>신정</datename><isholiday>Y</isholiday><locdate>20160101</locdate><seq>1</seq></item></items><numofrows>10</numofrows><pageno>1</pageno><totalcount>1</totalcount></body></response>\n",
      "<?xml version=\"1.0\" encoding=\"UTF-8\" standalone=\"yes\"?><response><header><resultcode>00</resultcode><resultmsg>NORMAL SERVICE.</resultmsg></header><body><items><item><datekind>01</datekind><datename>설날</datename><isholiday>Y</isholiday><locdate>20160207</locdate><seq>1</seq></item><item><datekind>01</datekind><datename>설날</datename><isholiday>Y</isholiday><locdate>20160208</locdate><seq>1</seq></item><item><datekind>01</datekind><datename>설날</datename><isholiday>Y</isholiday><locdate>20160209</locdate><seq>1</seq></item><item><datekind>01</datekind><datename>대체공휴일</datename><isholiday>Y</isholiday><locdate>20160210</locdate><seq>1</seq></item></items><numofrows>10</numofrows><pageno>1</pageno><totalcount>4</totalcount></body></response>\n",
      "<?xml version=\"1.0\" encoding=\"UTF-8\" standalone=\"yes\"?><response><header><resultcode>00</resultcode><resultmsg>NORMAL SERVICE.</resultmsg></header><body><items><item><datekind>01</datekind><datename>삼일절</datename><isholiday>Y</isholiday><locdate>20160301</locdate><seq>1</seq></item></items><numofrows>10</numofrows><pageno>1</pageno><totalcount>1</totalcount></body></response>\n",
      "<?xml version=\"1.0\" encoding=\"UTF-8\" standalone=\"yes\"?><response><header><resultcode>00</resultcode><resultmsg>NORMAL SERVICE.</resultmsg></header><body><items><item><datekind>01</datekind><datename>국회의원선거일</datename><isholiday>Y</isholiday><locdate>20160413</locdate><seq>1</seq></item></items><numofrows>10</numofrows><pageno>1</pageno><totalcount>1</totalcount></body></response>\n",
      "<?xml version=\"1.0\" encoding=\"UTF-8\" standalone=\"yes\"?><response><header><resultcode>00</resultcode><resultmsg>NORMAL SERVICE.</resultmsg></header><body><items><item><datekind>01</datekind><datename>어린이날</datename><isholiday>Y</isholiday><locdate>20160505</locdate><seq>1</seq></item><item><datekind>01</datekind><datename>석가탄신일</datename><isholiday>Y</isholiday><locdate>20160514</locdate><seq>1</seq></item></items><numofrows>10</numofrows><pageno>1</pageno><totalcount>2</totalcount></body></response>\n",
      "<?xml version=\"1.0\" encoding=\"UTF-8\" standalone=\"yes\"?><response><header><resultcode>00</resultcode><resultmsg>NORMAL SERVICE.</resultmsg></header><body><items><item><datekind>01</datekind><datename>현충일</datename><isholiday>Y</isholiday><locdate>20160606</locdate><seq>1</seq></item></items><numofrows>10</numofrows><pageno>1</pageno><totalcount>1</totalcount></body></response>\n",
      "<?xml version=\"1.0\" encoding=\"UTF-8\" standalone=\"yes\"?><response><header><resultcode>00</resultcode><resultmsg>NORMAL SERVICE.</resultmsg></header><body><items><item><datekind>01</datekind><datename>제헌절</datename><isholiday>N</isholiday><locdate>20160717</locdate><remarks>국경일(2014. 12. 30. 법률 12915호)이지만 관공서의 공휴일(2013. 11. 05. 대통령령 24828호)이 아님.</remarks><seq>1</seq></item></items><numofrows>10</numofrows><pageno>1</pageno><totalcount>1</totalcount></body></response>\n",
      "<?xml version=\"1.0\" encoding=\"UTF-8\" standalone=\"yes\"?><response><header><resultcode>00</resultcode><resultmsg>NORMAL SERVICE.</resultmsg></header><body><items><item><datekind>01</datekind><datename>광복절</datename><isholiday>Y</isholiday><locdate>20160815</locdate><seq>1</seq></item></items><numofrows>10</numofrows><pageno>1</pageno><totalcount>1</totalcount></body></response>\n",
      "<?xml version=\"1.0\" encoding=\"UTF-8\" standalone=\"yes\"?><response><header><resultcode>00</resultcode><resultmsg>NORMAL SERVICE.</resultmsg></header><body><items><item><datekind>01</datekind><datename>추석</datename><isholiday>Y</isholiday><locdate>20160914</locdate><seq>1</seq></item><item><datekind>01</datekind><datename>추석</datename><isholiday>Y</isholiday><locdate>20160915</locdate><seq>1</seq></item><item><datekind>01</datekind><datename>추석</datename><isholiday>Y</isholiday><locdate>20160916</locdate><seq>1</seq></item></items><numofrows>10</numofrows><pageno>1</pageno><totalcount>3</totalcount></body></response>\n",
      "<?xml version=\"1.0\" encoding=\"UTF-8\" standalone=\"yes\"?><response><header><resultcode>00</resultcode><resultmsg>NORMAL SERVICE.</resultmsg></header><body><items><item><datekind>01</datekind><datename>개천절</datename><isholiday>Y</isholiday><locdate>20161003</locdate><seq>1</seq></item><item><datekind>01</datekind><datename>한글날</datename><isholiday>Y</isholiday><locdate>20161009</locdate><seq>1</seq></item></items><numofrows>10</numofrows><pageno>1</pageno><totalcount>2</totalcount></body></response>\n",
      "<?xml version=\"1.0\" encoding=\"UTF-8\" standalone=\"yes\"?><response><header><resultcode>00</resultcode><resultmsg>NORMAL SERVICE.</resultmsg></header><body><items></items><numofrows>10</numofrows><pageno>1</pageno><totalcount>0</totalcount></body></response>\n",
      "<?xml version=\"1.0\" encoding=\"UTF-8\" standalone=\"yes\"?><response><header><resultcode>00</resultcode><resultmsg>NORMAL SERVICE.</resultmsg></header><body><items><item><datekind>01</datekind><datename>기독탄신일</datename><isholiday>Y</isholiday><locdate>20161225</locdate><seq>1</seq></item></items><numofrows>10</numofrows><pageno>1</pageno><totalcount>1</totalcount></body></response>\n",
      "<?xml version=\"1.0\" encoding=\"UTF-8\" standalone=\"yes\"?><response><header><resultcode>00</resultcode><resultmsg>NORMAL SERVICE.</resultmsg></header><body><items><item><datekind>01</datekind><datename>신정</datename><isholiday>Y</isholiday><locdate>20150101</locdate><seq>1</seq></item></items><numofrows>10</numofrows><pageno>1</pageno><totalcount>1</totalcount></body></response>\n",
      "<?xml version=\"1.0\" encoding=\"UTF-8\" standalone=\"yes\"?><response><header><resultcode>00</resultcode><resultmsg>NORMAL SERVICE.</resultmsg></header><body><items><item><datekind>01</datekind><datename>설날</datename><isholiday>Y</isholiday><locdate>20150218</locdate><seq>1</seq></item><item><datekind>01</datekind><datename>설날</datename><isholiday>Y</isholiday><locdate>20150219</locdate><seq>1</seq></item><item><datekind>01</datekind><datename>설날</datename><isholiday>Y</isholiday><locdate>20150220</locdate><seq>1</seq></item></items><numofrows>10</numofrows><pageno>1</pageno><totalcount>3</totalcount></body></response>\n",
      "<?xml version=\"1.0\" encoding=\"UTF-8\" standalone=\"yes\"?><response><header><resultcode>00</resultcode><resultmsg>NORMAL SERVICE.</resultmsg></header><body><items><item><datekind>01</datekind><datename>삼일절</datename><isholiday>Y</isholiday><locdate>20150301</locdate><seq>1</seq></item></items><numofrows>10</numofrows><pageno>1</pageno><totalcount>1</totalcount></body></response>\n",
      "<?xml version=\"1.0\" encoding=\"UTF-8\" standalone=\"yes\"?><response><header><resultcode>00</resultcode><resultmsg>NORMAL SERVICE.</resultmsg></header><body><items></items><numofrows>10</numofrows><pageno>1</pageno><totalcount>0</totalcount></body></response>\n",
      "<?xml version=\"1.0\" encoding=\"UTF-8\" standalone=\"yes\"?><response><header><resultcode>00</resultcode><resultmsg>NORMAL SERVICE.</resultmsg></header><body><items><item><datekind>01</datekind><datename>어린이날</datename><isholiday>Y</isholiday><locdate>20150505</locdate><seq>1</seq></item><item><datekind>01</datekind><datename>석가탄신일</datename><isholiday>Y</isholiday><locdate>20150525</locdate><seq>1</seq></item></items><numofrows>10</numofrows><pageno>1</pageno><totalcount>2</totalcount></body></response>\n",
      "<?xml version=\"1.0\" encoding=\"UTF-8\" standalone=\"yes\"?><response><header><resultcode>00</resultcode><resultmsg>NORMAL SERVICE.</resultmsg></header><body><items><item><datekind>01</datekind><datename>현충일</datename><isholiday>Y</isholiday><locdate>20150606</locdate><seq>1</seq></item></items><numofrows>10</numofrows><pageno>1</pageno><totalcount>1</totalcount></body></response>\n"
     ]
    },
    {
     "name": "stdout",
     "output_type": "stream",
     "text": [
      "<?xml version=\"1.0\" encoding=\"UTF-8\" standalone=\"yes\"?><response><header><resultcode>00</resultcode><resultmsg>NORMAL SERVICE.</resultmsg></header><body><items><item><datekind>01</datekind><datename>제헌절</datename><isholiday>N</isholiday><locdate>20150717</locdate><remarks>국경일(2005. 12. 29. 법률 7771호)이지만 관공서의 공휴일(2012. 12. 28. 대통령령 24273호)이 아님.</remarks><seq>1</seq></item></items><numofrows>10</numofrows><pageno>1</pageno><totalcount>1</totalcount></body></response>\n",
      "<?xml version=\"1.0\" encoding=\"UTF-8\" standalone=\"yes\"?><response><header><resultcode>00</resultcode><resultmsg>NORMAL SERVICE.</resultmsg></header><body><items><item><datekind>01</datekind><datename>광복절</datename><isholiday>Y</isholiday><locdate>20150815</locdate><seq>1</seq></item></items><numofrows>10</numofrows><pageno>1</pageno><totalcount>1</totalcount></body></response>\n",
      "<?xml version=\"1.0\" encoding=\"UTF-8\" standalone=\"yes\"?><response><header><resultcode>00</resultcode><resultmsg>NORMAL SERVICE.</resultmsg></header><body><items><item><datekind>01</datekind><datename>추석</datename><isholiday>Y</isholiday><locdate>20150926</locdate><seq>1</seq></item><item><datekind>01</datekind><datename>추석</datename><isholiday>Y</isholiday><locdate>20150927</locdate><seq>1</seq></item><item><datekind>01</datekind><datename>추석</datename><isholiday>Y</isholiday><locdate>20150928</locdate><seq>1</seq></item><item><datekind>01</datekind><datename>대체공휴일</datename><isholiday>Y</isholiday><locdate>20150929</locdate><seq>1</seq></item></items><numofrows>10</numofrows><pageno>1</pageno><totalcount>4</totalcount></body></response>\n",
      "<?xml version=\"1.0\" encoding=\"UTF-8\" standalone=\"yes\"?><response><header><resultcode>00</resultcode><resultmsg>NORMAL SERVICE.</resultmsg></header><body><items><item><datekind>01</datekind><datename>개천절</datename><isholiday>Y</isholiday><locdate>20151003</locdate><seq>1</seq></item><item><datekind>01</datekind><datename>한글날</datename><isholiday>Y</isholiday><locdate>20151009</locdate><seq>1</seq></item></items><numofrows>10</numofrows><pageno>1</pageno><totalcount>2</totalcount></body></response>\n",
      "<?xml version=\"1.0\" encoding=\"UTF-8\" standalone=\"yes\"?><response><header><resultcode>00</resultcode><resultmsg>NORMAL SERVICE.</resultmsg></header><body><items></items><numofrows>10</numofrows><pageno>1</pageno><totalcount>0</totalcount></body></response>\n",
      "<?xml version=\"1.0\" encoding=\"UTF-8\" standalone=\"yes\"?><response><header><resultcode>00</resultcode><resultmsg>NORMAL SERVICE.</resultmsg></header><body><items><item><datekind>01</datekind><datename>기독탄신일</datename><isholiday>Y</isholiday><locdate>20151225</locdate><seq>1</seq></item></items><numofrows>10</numofrows><pageno>1</pageno><totalcount>1</totalcount></body></response>\n"
     ]
    }
   ],
   "source": [
    "Soup2s = []\n",
    "for i in range(response_xml_lists):\n",
    "    Soup2 = BeautifulSoup(response_xmls[i], \"html.parser\")\n",
    "    print(Soup2)\n",
    "    Soup2s.append(Soup2)"
   ]
  },
  {
   "cell_type": "code",
   "execution_count": 422,
   "metadata": {},
   "outputs": [
    {
     "data": {
      "text/plain": [
       "60"
      ]
     },
     "execution_count": 422,
     "metadata": {},
     "output_type": "execute_result"
    }
   ],
   "source": [
    "len(Soup2s)"
   ]
  },
  {
   "cell_type": "code",
   "execution_count": 423,
   "metadata": {},
   "outputs": [
    {
     "data": {
      "text/plain": [
       "<?xml version=\"1.0\" encoding=\"UTF-8\" standalone=\"yes\"?><response><header><resultcode>00</resultcode><resultmsg>NORMAL SERVICE.</resultmsg></header><body><items><item><datekind>01</datekind><datename>개천절</datename><isholiday>Y</isholiday><locdate>20151003</locdate><seq>1</seq></item><item><datekind>01</datekind><datename>한글날</datename><isholiday>Y</isholiday><locdate>20151009</locdate><seq>1</seq></item></items><numofrows>10</numofrows><pageno>1</pageno><totalcount>2</totalcount></body></response>"
      ]
     },
     "execution_count": 423,
     "metadata": {},
     "output_type": "execute_result"
    }
   ],
   "source": [
    "Soup2s[57]"
   ]
  },
  {
   "cell_type": "code",
   "execution_count": 424,
   "metadata": {},
   "outputs": [
    {
     "data": {
      "text/plain": [
       "'20190101'"
      ]
     },
     "execution_count": 424,
     "metadata": {},
     "output_type": "execute_result"
    }
   ],
   "source": [
    "Soup2s[0].find_all('item')[0].text[-9:-1]"
   ]
  },
  {
   "cell_type": "code",
   "execution_count": 425,
   "metadata": {},
   "outputs": [
    {
     "data": {
      "text/plain": [
       "'1월1일'"
      ]
     },
     "execution_count": 425,
     "metadata": {},
     "output_type": "execute_result"
    }
   ],
   "source": [
    "Soup2s[0].find_all('item')[0].text[2:][:-10]\n",
    "\n",
    "#soup.find_all('item')[0].text[2:][:-10]"
   ]
  },
  {
   "cell_type": "code",
   "execution_count": 428,
   "metadata": {},
   "outputs": [],
   "source": [
    "datenames2 = []\n",
    "locdates2 = []\n",
    "\n",
    "for i in range(len(Soup2s)):\n",
    "    num2 = len(Soup2s[i].find_all('item'))\n",
    "    for g in range(num2):\n",
    "        datename2 = [each for each in [Soup2s[i].find_all('item')[g].text[2:][:-10]]]\n",
    "        locdate2 = [each for each in [Soup2s[i].find_all('item')[g].text[2:][-9:-1]]]\n",
    "        datenames2.extend(datename2)\n",
    "        locdates2.extend(locdate2)\n",
    "\n",
    "        #print(datenames2, locdates2)"
   ]
  },
  {
   "cell_type": "code",
   "execution_count": 480,
   "metadata": {},
   "outputs": [
    {
     "data": {
      "text/html": [
       "<div>\n",
       "<style scoped>\n",
       "    .dataframe tbody tr th:only-of-type {\n",
       "        vertical-align: middle;\n",
       "    }\n",
       "\n",
       "    .dataframe tbody tr th {\n",
       "        vertical-align: top;\n",
       "    }\n",
       "\n",
       "    .dataframe thead th {\n",
       "        text-align: right;\n",
       "    }\n",
       "</style>\n",
       "<table border=\"1\" class=\"dataframe\">\n",
       "  <thead>\n",
       "    <tr style=\"text-align: right;\">\n",
       "      <th></th>\n",
       "      <th>datename</th>\n",
       "      <th>locdate</th>\n",
       "    </tr>\n",
       "  </thead>\n",
       "  <tbody>\n",
       "    <tr>\n",
       "      <td>0</td>\n",
       "      <td>1월1일</td>\n",
       "      <td>20190101</td>\n",
       "    </tr>\n",
       "    <tr>\n",
       "      <td>1</td>\n",
       "      <td>설날</td>\n",
       "      <td>20190204</td>\n",
       "    </tr>\n",
       "    <tr>\n",
       "      <td>2</td>\n",
       "      <td>설날</td>\n",
       "      <td>20190205</td>\n",
       "    </tr>\n",
       "    <tr>\n",
       "      <td>3</td>\n",
       "      <td>설날</td>\n",
       "      <td>20190206</td>\n",
       "    </tr>\n",
       "    <tr>\n",
       "      <td>4</td>\n",
       "      <td>삼일절</td>\n",
       "      <td>20190301</td>\n",
       "    </tr>\n",
       "    <tr>\n",
       "      <td>...</td>\n",
       "      <td>...</td>\n",
       "      <td>...</td>\n",
       "    </tr>\n",
       "    <tr>\n",
       "      <td>86</td>\n",
       "      <td>추석</td>\n",
       "      <td>20150928</td>\n",
       "    </tr>\n",
       "    <tr>\n",
       "      <td>87</td>\n",
       "      <td>대체공휴일</td>\n",
       "      <td>20150929</td>\n",
       "    </tr>\n",
       "    <tr>\n",
       "      <td>88</td>\n",
       "      <td>개천절</td>\n",
       "      <td>20151003</td>\n",
       "    </tr>\n",
       "    <tr>\n",
       "      <td>89</td>\n",
       "      <td>한글날</td>\n",
       "      <td>20151009</td>\n",
       "    </tr>\n",
       "    <tr>\n",
       "      <td>90</td>\n",
       "      <td>기독탄신일</td>\n",
       "      <td>20151225</td>\n",
       "    </tr>\n",
       "  </tbody>\n",
       "</table>\n",
       "<p>91 rows × 2 columns</p>\n",
       "</div>"
      ],
      "text/plain": [
       "   datename   locdate\n",
       "0      1월1일  20190101\n",
       "1        설날  20190204\n",
       "2        설날  20190205\n",
       "3        설날  20190206\n",
       "4       삼일절  20190301\n",
       "..      ...       ...\n",
       "86       추석  20150928\n",
       "87    대체공휴일  20150929\n",
       "88      개천절  20151003\n",
       "89      한글날  20151009\n",
       "90    기독탄신일  20151225\n",
       "\n",
       "[91 rows x 2 columns]"
      ]
     },
     "execution_count": 480,
     "metadata": {},
     "output_type": "execute_result"
    }
   ],
   "source": [
    "holidays2 = pd.DataFrame({'datename':datenames2, \"locdate\":locdates2})\n",
    "holidays2"
   ]
  },
  {
   "cell_type": "code",
   "execution_count": 430,
   "metadata": {},
   "outputs": [],
   "source": [
    "holidays2.to_csv(\"./holiday.csv\")"
   ]
  },
  {
   "cell_type": "code",
   "execution_count": 513,
   "metadata": {},
   "outputs": [],
   "source": [
    "df09 = pd.read_csv(\"./data_09.csv\").drop(columns='Unnamed: 0')\n",
    "#df09.head() \n",
    "#7/9/2015"
   ]
  },
  {
   "cell_type": "code",
   "execution_count": 514,
   "metadata": {},
   "outputs": [
    {
     "data": {
      "text/plain": [
       "0     2015-07-09\n",
       "1     2016-06-02\n",
       "2     2018-07-25\n",
       "3     2016-11-17\n",
       "4     2018-07-18\n",
       "         ...    \n",
       "920   2018-09-19\n",
       "921   2018-05-17\n",
       "922   2018-11-28\n",
       "923   2016-03-03\n",
       "924   2018-07-25\n",
       "Name: release_date, Length: 925, dtype: datetime64[ns]"
      ]
     },
     "execution_count": 514,
     "metadata": {},
     "output_type": "execute_result"
    }
   ],
   "source": [
    "df09[\"release_date\"] = pd.to_datetime(df09[\"release_date\"])\n",
    "df09[\"release_date\"]"
   ]
  },
  {
   "cell_type": "code",
   "execution_count": 453,
   "metadata": {},
   "outputs": [],
   "source": [
    "import datetime"
   ]
  },
  {
   "cell_type": "code",
   "execution_count": 529,
   "metadata": {},
   "outputs": [],
   "source": [
    "df_holiday = pd.read_csv(\"./holiday.csv\").drop(columns=\"Unnamed: 0\")"
   ]
  },
  {
   "cell_type": "code",
   "execution_count": 530,
   "metadata": {},
   "outputs": [
    {
     "data": {
      "text/plain": [
       "91"
      ]
     },
     "execution_count": 530,
     "metadata": {},
     "output_type": "execute_result"
    }
   ],
   "source": [
    "len(df_holiday[\"locdate\"])"
   ]
  },
  {
   "cell_type": "code",
   "execution_count": 531,
   "metadata": {},
   "outputs": [],
   "source": [
    "def find_falseholiday(date):\n",
    "    if \"아님\" in date:\n",
    "        return 0\n",
    "    else:\n",
    "        return 1"
   ]
  },
  {
   "cell_type": "code",
   "execution_count": 532,
   "metadata": {},
   "outputs": [
    {
     "data": {
      "text/plain": [
       "0     20190101\n",
       "1     20190204\n",
       "2     20190205\n",
       "3     20190206\n",
       "4     20190301\n",
       "        ...   \n",
       "86    20150928\n",
       "87    20150929\n",
       "88    20151003\n",
       "89    20151009\n",
       "90    20151225\n",
       "Name: locdate, Length: 91, dtype: object"
      ]
     },
     "execution_count": 532,
     "metadata": {},
     "output_type": "execute_result"
    }
   ],
   "source": [
    "df_holiday[\"locdate\"]"
   ]
  },
  {
   "cell_type": "code",
   "execution_count": 533,
   "metadata": {},
   "outputs": [
    {
     "data": {
      "text/plain": [
       "'공휴일이 아님.'"
      ]
     },
     "execution_count": 533,
     "metadata": {},
     "output_type": "execute_result"
    }
   ],
   "source": [
    "df_holiday[\"locdate\"][9]"
   ]
  },
  {
   "cell_type": "code",
   "execution_count": 534,
   "metadata": {},
   "outputs": [
    {
     "data": {
      "text/plain": [
       "0"
      ]
     },
     "execution_count": 534,
     "metadata": {},
     "output_type": "execute_result"
    }
   ],
   "source": [
    "find_falseholiday(df_holiday[\"locdate\"][9])"
   ]
  },
  {
   "cell_type": "code",
   "execution_count": 535,
   "metadata": {},
   "outputs": [
    {
     "data": {
      "text/plain": [
       "array([1, 0], dtype=int64)"
      ]
     },
     "execution_count": 535,
     "metadata": {},
     "output_type": "execute_result"
    }
   ],
   "source": [
    "df_holiday[\"holiday\"] = df_holiday[\"locdate\"].apply(find_falseholiday)\n",
    "df_holiday[\"holiday\"].unique()"
   ]
  },
  {
   "cell_type": "code",
   "execution_count": 539,
   "metadata": {},
   "outputs": [],
   "source": [
    "df_holiday2 = df_holiday[df_holiday[\"holiday\"] == 1]"
   ]
  },
  {
   "cell_type": "code",
   "execution_count": 543,
   "metadata": {},
   "outputs": [
    {
     "data": {
      "text/plain": [
       "0     20190101\n",
       "1     20190204\n",
       "2     20190205\n",
       "3     20190206\n",
       "4     20190301\n",
       "        ...   \n",
       "86    20150928\n",
       "87    20150929\n",
       "88    20151003\n",
       "89    20151009\n",
       "90    20151225\n",
       "Name: locdate, Length: 87, dtype: object"
      ]
     },
     "execution_count": 543,
     "metadata": {},
     "output_type": "execute_result"
    }
   ],
   "source": [
    "df_holiday2[\"locdate\"]"
   ]
  },
  {
   "cell_type": "code",
   "execution_count": 541,
   "metadata": {},
   "outputs": [
    {
     "name": "stderr",
     "output_type": "stream",
     "text": [
      "C:\\Users\\shine\\Anaconda3\\lib\\site-packages\\ipykernel_launcher.py:1: SettingWithCopyWarning: \n",
      "A value is trying to be set on a copy of a slice from a DataFrame.\n",
      "Try using .loc[row_indexer,col_indexer] = value instead\n",
      "\n",
      "See the caveats in the documentation: http://pandas.pydata.org/pandas-docs/stable/user_guide/indexing.html#returning-a-view-versus-a-copy\n",
      "  \"\"\"Entry point for launching an IPython kernel.\n"
     ]
    }
   ],
   "source": [
    "df_holiday2[\"locdate2\"]= pd.to_datetime(df_holiday2[\"locdate\"])\n"
   ]
  },
  {
   "cell_type": "code",
   "execution_count": 544,
   "metadata": {},
   "outputs": [
    {
     "data": {
      "text/html": [
       "<div>\n",
       "<style scoped>\n",
       "    .dataframe tbody tr th:only-of-type {\n",
       "        vertical-align: middle;\n",
       "    }\n",
       "\n",
       "    .dataframe tbody tr th {\n",
       "        vertical-align: top;\n",
       "    }\n",
       "\n",
       "    .dataframe thead th {\n",
       "        text-align: right;\n",
       "    }\n",
       "</style>\n",
       "<table border=\"1\" class=\"dataframe\">\n",
       "  <thead>\n",
       "    <tr style=\"text-align: right;\">\n",
       "      <th></th>\n",
       "      <th>datename</th>\n",
       "      <th>locdate</th>\n",
       "      <th>holiday</th>\n",
       "      <th>locdate2</th>\n",
       "    </tr>\n",
       "  </thead>\n",
       "  <tbody>\n",
       "    <tr>\n",
       "      <td>0</td>\n",
       "      <td>1월1일</td>\n",
       "      <td>20190101</td>\n",
       "      <td>1</td>\n",
       "      <td>2019-01-01</td>\n",
       "    </tr>\n",
       "    <tr>\n",
       "      <td>1</td>\n",
       "      <td>설날</td>\n",
       "      <td>20190204</td>\n",
       "      <td>1</td>\n",
       "      <td>2019-02-04</td>\n",
       "    </tr>\n",
       "    <tr>\n",
       "      <td>2</td>\n",
       "      <td>설날</td>\n",
       "      <td>20190205</td>\n",
       "      <td>1</td>\n",
       "      <td>2019-02-05</td>\n",
       "    </tr>\n",
       "    <tr>\n",
       "      <td>3</td>\n",
       "      <td>설날</td>\n",
       "      <td>20190206</td>\n",
       "      <td>1</td>\n",
       "      <td>2019-02-06</td>\n",
       "    </tr>\n",
       "    <tr>\n",
       "      <td>4</td>\n",
       "      <td>삼일절</td>\n",
       "      <td>20190301</td>\n",
       "      <td>1</td>\n",
       "      <td>2019-03-01</td>\n",
       "    </tr>\n",
       "    <tr>\n",
       "      <td>...</td>\n",
       "      <td>...</td>\n",
       "      <td>...</td>\n",
       "      <td>...</td>\n",
       "      <td>...</td>\n",
       "    </tr>\n",
       "    <tr>\n",
       "      <td>86</td>\n",
       "      <td>추석</td>\n",
       "      <td>20150928</td>\n",
       "      <td>1</td>\n",
       "      <td>2015-09-28</td>\n",
       "    </tr>\n",
       "    <tr>\n",
       "      <td>87</td>\n",
       "      <td>대체공휴일</td>\n",
       "      <td>20150929</td>\n",
       "      <td>1</td>\n",
       "      <td>2015-09-29</td>\n",
       "    </tr>\n",
       "    <tr>\n",
       "      <td>88</td>\n",
       "      <td>개천절</td>\n",
       "      <td>20151003</td>\n",
       "      <td>1</td>\n",
       "      <td>2015-10-03</td>\n",
       "    </tr>\n",
       "    <tr>\n",
       "      <td>89</td>\n",
       "      <td>한글날</td>\n",
       "      <td>20151009</td>\n",
       "      <td>1</td>\n",
       "      <td>2015-10-09</td>\n",
       "    </tr>\n",
       "    <tr>\n",
       "      <td>90</td>\n",
       "      <td>기독탄신일</td>\n",
       "      <td>20151225</td>\n",
       "      <td>1</td>\n",
       "      <td>2015-12-25</td>\n",
       "    </tr>\n",
       "  </tbody>\n",
       "</table>\n",
       "<p>87 rows × 4 columns</p>\n",
       "</div>"
      ],
      "text/plain": [
       "   datename   locdate  holiday   locdate2\n",
       "0      1월1일  20190101        1 2019-01-01\n",
       "1        설날  20190204        1 2019-02-04\n",
       "2        설날  20190205        1 2019-02-05\n",
       "3        설날  20190206        1 2019-02-06\n",
       "4       삼일절  20190301        1 2019-03-01\n",
       "..      ...       ...      ...        ...\n",
       "86       추석  20150928        1 2015-09-28\n",
       "87    대체공휴일  20150929        1 2015-09-29\n",
       "88      개천절  20151003        1 2015-10-03\n",
       "89      한글날  20151009        1 2015-10-09\n",
       "90    기독탄신일  20151225        1 2015-12-25\n",
       "\n",
       "[87 rows x 4 columns]"
      ]
     },
     "execution_count": 544,
     "metadata": {},
     "output_type": "execute_result"
    }
   ],
   "source": [
    "df_holiday2"
   ]
  },
  {
   "cell_type": "code",
   "execution_count": 639,
   "metadata": {},
   "outputs": [
    {
     "data": {
      "text/plain": [
       "87"
      ]
     },
     "execution_count": 639,
     "metadata": {},
     "output_type": "execute_result"
    }
   ],
   "source": [
    "len(df_holiday2[\"locdate2\"])"
   ]
  },
  {
   "cell_type": "code",
   "execution_count": 737,
   "metadata": {},
   "outputs": [
    {
     "data": {
      "text/plain": [
       "'2016-08-10'"
      ]
     },
     "execution_count": 737,
     "metadata": {},
     "output_type": "execute_result"
    }
   ],
   "source": [
    "str(df09[\"release_date\"][90])[:10]"
   ]
  },
  {
   "cell_type": "code",
   "execution_count": 729,
   "metadata": {},
   "outputs": [
    {
     "data": {
      "text/plain": [
       "'2019-01-01'"
      ]
     },
     "execution_count": 729,
     "metadata": {},
     "output_type": "execute_result"
    }
   ],
   "source": [
    "str(df_holiday2[\"locdate2\"][0])[:10]"
   ]
  },
  {
   "cell_type": "code",
   "execution_count": 649,
   "metadata": {},
   "outputs": [],
   "source": [
    "df_holiday2=df_holiday2.reset_index()"
   ]
  },
  {
   "cell_type": "code",
   "execution_count": 795,
   "metadata": {},
   "outputs": [],
   "source": [
    "def find_holiday(date):\n",
    "    if date in df_holiday2[\"locdate2\"]:\n",
    "        return 1\n",
    "    return 0"
   ]
  },
  {
   "cell_type": "code",
   "execution_count": 801,
   "metadata": {},
   "outputs": [
    {
     "data": {
      "text/plain": [
       "False"
      ]
     },
     "execution_count": 801,
     "metadata": {},
     "output_type": "execute_result"
    }
   ],
   "source": [
    "df09[\"release_date\"][0] in df_holiday2[\"locdate2\"]"
   ]
  },
  {
   "cell_type": "code",
   "execution_count": 768,
   "metadata": {},
   "outputs": [],
   "source": [
    "#df09[\"holiday\"] = df09.loc[df09[\"release_date\"] ==  df_holiday2[\"locdate2\"], \"1\", \"0\"]"
   ]
  },
  {
   "cell_type": "code",
   "execution_count": 812,
   "metadata": {},
   "outputs": [
    {
     "data": {
      "text/plain": [
       "Timestamp('2015-07-09 00:00:00')"
      ]
     },
     "execution_count": 812,
     "metadata": {},
     "output_type": "execute_result"
    }
   ],
   "source": [
    "df09[\"release_date\"][0]"
   ]
  },
  {
   "cell_type": "code",
   "execution_count": 813,
   "metadata": {},
   "outputs": [
    {
     "data": {
      "text/plain": [
       "[Timestamp('2019-01-01 00:00:00'),\n",
       " Timestamp('2019-02-04 00:00:00'),\n",
       " Timestamp('2019-02-05 00:00:00'),\n",
       " Timestamp('2019-02-06 00:00:00'),\n",
       " Timestamp('2019-03-01 00:00:00'),\n",
       " Timestamp('2019-05-05 00:00:00'),\n",
       " Timestamp('2019-05-06 00:00:00'),\n",
       " Timestamp('2019-05-12 00:00:00'),\n",
       " Timestamp('2019-06-06 00:00:00'),\n",
       " Timestamp('2019-08-15 00:00:00'),\n",
       " Timestamp('2019-09-12 00:00:00'),\n",
       " Timestamp('2019-09-13 00:00:00'),\n",
       " Timestamp('2019-09-14 00:00:00'),\n",
       " Timestamp('2019-10-03 00:00:00'),\n",
       " Timestamp('2019-10-09 00:00:00'),\n",
       " Timestamp('2019-12-25 00:00:00'),\n",
       " Timestamp('2018-01-01 00:00:00'),\n",
       " Timestamp('2018-02-15 00:00:00'),\n",
       " Timestamp('2018-02-16 00:00:00'),\n",
       " Timestamp('2018-02-17 00:00:00'),\n",
       " Timestamp('2018-03-01 00:00:00'),\n",
       " Timestamp('2018-05-05 00:00:00'),\n",
       " Timestamp('2018-05-07 00:00:00'),\n",
       " Timestamp('2018-05-22 00:00:00'),\n",
       " Timestamp('2018-06-06 00:00:00'),\n",
       " Timestamp('2018-06-13 00:00:00'),\n",
       " Timestamp('2018-07-17 00:00:00'),\n",
       " Timestamp('2018-08-15 00:00:00'),\n",
       " Timestamp('2018-09-23 00:00:00'),\n",
       " Timestamp('2018-09-24 00:00:00'),\n",
       " Timestamp('2018-09-25 00:00:00'),\n",
       " Timestamp('2018-09-26 00:00:00'),\n",
       " Timestamp('2018-10-03 00:00:00'),\n",
       " Timestamp('2018-10-09 00:00:00'),\n",
       " Timestamp('2018-12-25 00:00:00'),\n",
       " Timestamp('2017-01-01 00:00:00'),\n",
       " Timestamp('2017-01-27 00:00:00'),\n",
       " Timestamp('2017-01-28 00:00:00'),\n",
       " Timestamp('2017-01-29 00:00:00'),\n",
       " Timestamp('2017-01-30 00:00:00'),\n",
       " Timestamp('2017-03-01 00:00:00'),\n",
       " Timestamp('2017-05-03 00:00:00'),\n",
       " Timestamp('2017-05-05 00:00:00'),\n",
       " Timestamp('2017-05-09 00:00:00'),\n",
       " Timestamp('2017-06-06 00:00:00'),\n",
       " Timestamp('2017-08-15 00:00:00'),\n",
       " Timestamp('2017-10-02 00:00:00'),\n",
       " Timestamp('2017-10-03 00:00:00'),\n",
       " Timestamp('2017-10-03 00:00:00'),\n",
       " Timestamp('2017-10-04 00:00:00'),\n",
       " Timestamp('2017-10-05 00:00:00'),\n",
       " Timestamp('2017-10-06 00:00:00'),\n",
       " Timestamp('2017-10-09 00:00:00'),\n",
       " Timestamp('2017-12-25 00:00:00'),\n",
       " Timestamp('2016-01-01 00:00:00'),\n",
       " Timestamp('2016-02-07 00:00:00'),\n",
       " Timestamp('2016-02-08 00:00:00'),\n",
       " Timestamp('2016-02-09 00:00:00'),\n",
       " Timestamp('2016-02-10 00:00:00'),\n",
       " Timestamp('2016-03-01 00:00:00'),\n",
       " Timestamp('2016-04-13 00:00:00'),\n",
       " Timestamp('2016-05-05 00:00:00'),\n",
       " Timestamp('2016-05-14 00:00:00'),\n",
       " Timestamp('2016-06-06 00:00:00'),\n",
       " Timestamp('2016-08-15 00:00:00'),\n",
       " Timestamp('2016-09-14 00:00:00'),\n",
       " Timestamp('2016-09-15 00:00:00'),\n",
       " Timestamp('2016-09-16 00:00:00'),\n",
       " Timestamp('2016-10-03 00:00:00'),\n",
       " Timestamp('2016-10-09 00:00:00'),\n",
       " Timestamp('2016-12-25 00:00:00'),\n",
       " Timestamp('2015-01-01 00:00:00'),\n",
       " Timestamp('2015-02-18 00:00:00'),\n",
       " Timestamp('2015-02-19 00:00:00'),\n",
       " Timestamp('2015-02-20 00:00:00'),\n",
       " Timestamp('2015-03-01 00:00:00'),\n",
       " Timestamp('2015-05-05 00:00:00'),\n",
       " Timestamp('2015-05-25 00:00:00'),\n",
       " Timestamp('2015-06-06 00:00:00'),\n",
       " Timestamp('2015-08-15 00:00:00'),\n",
       " Timestamp('2015-09-26 00:00:00'),\n",
       " Timestamp('2015-09-27 00:00:00'),\n",
       " Timestamp('2015-09-28 00:00:00'),\n",
       " Timestamp('2015-09-29 00:00:00'),\n",
       " Timestamp('2015-10-03 00:00:00'),\n",
       " Timestamp('2015-10-09 00:00:00'),\n",
       " Timestamp('2015-12-25 00:00:00')]"
      ]
     },
     "execution_count": 813,
     "metadata": {},
     "output_type": "execute_result"
    }
   ],
   "source": [
    "list(df_holiday2[\"locdate2\"])"
   ]
  },
  {
   "cell_type": "code",
   "execution_count": 807,
   "metadata": {},
   "outputs": [],
   "source": [
    "df09[\"holiday\"] = df09[\"release_date\"].apply(lambda data : 1 if data in list(df_holiday2[\"locdate2\"]) else 0)"
   ]
  },
  {
   "cell_type": "code",
   "execution_count": 808,
   "metadata": {},
   "outputs": [
    {
     "data": {
      "text/plain": [
       "array([0, 1], dtype=int64)"
      ]
     },
     "execution_count": 808,
     "metadata": {},
     "output_type": "execute_result"
    }
   ],
   "source": [
    "df09[\"holiday\"].unique()"
   ]
  },
  {
   "cell_type": "code",
   "execution_count": 809,
   "metadata": {},
   "outputs": [
    {
     "data": {
      "text/plain": [
       "867"
      ]
     },
     "execution_count": 809,
     "metadata": {},
     "output_type": "execute_result"
    }
   ],
   "source": [
    "len(df09[df09[\"holiday\"] == 0])"
   ]
  },
  {
   "cell_type": "code",
   "execution_count": 810,
   "metadata": {},
   "outputs": [
    {
     "data": {
      "text/plain": [
       "58"
      ]
     },
     "execution_count": 810,
     "metadata": {},
     "output_type": "execute_result"
    }
   ],
   "source": [
    "len(df09[df09[\"holiday\"] == 1])"
   ]
  },
  {
   "cell_type": "code",
   "execution_count": 817,
   "metadata": {},
   "outputs": [],
   "source": [
    "df09.to_csv(\"./add_holiday_df09.csv\")"
   ]
  },
  {
   "cell_type": "code",
   "execution_count": 413,
   "metadata": {},
   "outputs": [
    {
     "data": {
      "text/plain": [
       "[<items><item><datekind>01</datekind><datename>어린이날</datename><isholiday>Y</isholiday><locdate>20190505</locdate><seq>1</seq></item><item><datekind>01</datekind><datename>대체공휴일</datename><isholiday>Y</isholiday><locdate>20190506</locdate><seq>1</seq></item><item><datekind>01</datekind><datename>부처님오신날</datename><isholiday>Y</isholiday><locdate>20190512</locdate><seq>1</seq></item></items>]"
      ]
     },
     "execution_count": 413,
     "metadata": {},
     "output_type": "execute_result"
    }
   ],
   "source": [
    "#datename = [each for each in soup.find_all('items')]\n",
    "#datename"
   ]
  },
  {
   "cell_type": "code",
   "execution_count": 244,
   "metadata": {},
   "outputs": [
    {
     "name": "stdout",
     "output_type": "stream",
     "text": [
      "<?xml version=\"1.0\" encoding=\"UTF-8\" standalone=\"yes\"?><response><header><resultCode>00</resultCode><resultMsg>NORMAL SERVICE.</resultMsg></header><body><items><item><dateKind>01</dateKind><dateName>기독탄신일</dateName><isHoliday>Y</isHoliday><locdate>20151225</locdate><seq>1</seq></item></items><numOfRows>10</numOfRows><pageNo>1</pageNo><totalCount>1</totalCount></body></response>\n"
     ]
    }
   ],
   "source": [
    "#if True == response.ok:\n",
    "    #print(response.text)"
   ]
  },
  {
   "cell_type": "code",
   "execution_count": 48,
   "metadata": {},
   "outputs": [
    {
     "data": {
      "text/plain": [
       "b'<?xml version=\"1.0\" encoding=\"UTF-8\" standalone=\"yes\"?><response><header><resultCode>00</resultCode><resultMsg>NORMAL SERVICE.</resultMsg></header><body><items><item><dateKind>01</dateKind><dateName>\\xec\\x96\\xb4\\xeb\\xa6\\xb0\\xec\\x9d\\xb4\\xeb\\x82\\xa0</dateName><isHoliday>Y</isHoliday><locdate>20190505</locdate><seq>1</seq></item><item><dateKind>01</dateKind><dateName>\\xeb\\x8c\\x80\\xec\\xb2\\xb4\\xea\\xb3\\xb5\\xed\\x9c\\xb4\\xec\\x9d\\xbc</dateName><isHoliday>Y</isHoliday><locdate>20190506</locdate><seq>1</seq></item><item><dateKind>01</dateKind><dateName>\\xeb\\xb6\\x80\\xec\\xb2\\x98\\xeb\\x8b\\x98\\xec\\x98\\xa4\\xec\\x8b\\xa0\\xeb\\x82\\xa0</dateName><isHoliday>Y</isHoliday><locdate>20190512</locdate><seq>1</seq></item></items><numOfRows>10</numOfRows><pageNo>1</pageNo><totalCount>3</totalCount></body></response>'"
      ]
     },
     "execution_count": 48,
     "metadata": {},
     "output_type": "execute_result"
    }
   ],
   "source": [
    "#from urllib.request import urlopen\n",
    "#response2 = urlopen(request_query).read()\n",
    "#response2"
   ]
  },
  {
   "cell_type": "code",
   "execution_count": 193,
   "metadata": {},
   "outputs": [
    {
     "data": {
      "text/plain": [
       "<?xml version=\"1.0\" encoding=\"UTF-8\" standalone=\"yes\"?><response><header><resultcode>00</resultcode><resultmsg>NORMAL SERVICE.</resultmsg></header><body><items><item><datekind>01</datekind><datename>어린이날</datename><isholiday>Y</isholiday><locdate>20190505</locdate><seq>1</seq></item><item><datekind>01</datekind><datename>대체공휴일</datename><isholiday>Y</isholiday><locdate>20190506</locdate><seq>1</seq></item><item><datekind>01</datekind><datename>부처님오신날</datename><isholiday>Y</isholiday><locdate>20190512</locdate><seq>1</seq></item></items><numofrows>10</numofrows><pageno>1</pageno><totalcount>3</totalcount></body></response>"
      ]
     },
     "execution_count": 193,
     "metadata": {},
     "output_type": "execute_result"
    }
   ],
   "source": [
    "#soup = BeautifulSoup(response2, \"html.parser\")\n",
    "#soup"
   ]
  },
  {
   "cell_type": "code",
   "execution_count": 194,
   "metadata": {},
   "outputs": [
    {
     "data": {
      "text/plain": [
       "[<items><item><datekind>01</datekind><datename>어린이날</datename><isholiday>Y</isholiday><locdate>20190505</locdate><seq>1</seq></item><item><datekind>01</datekind><datename>대체공휴일</datename><isholiday>Y</isholiday><locdate>20190506</locdate><seq>1</seq></item><item><datekind>01</datekind><datename>부처님오신날</datename><isholiday>Y</isholiday><locdate>20190512</locdate><seq>1</seq></item></items>]"
      ]
     },
     "execution_count": 194,
     "metadata": {},
     "output_type": "execute_result"
    }
   ],
   "source": [
    "#soup.find_all('items')"
   ]
  },
  {
   "cell_type": "code",
   "execution_count": 209,
   "metadata": {},
   "outputs": [
    {
     "data": {
      "text/plain": [
       "3"
      ]
     },
     "execution_count": 209,
     "metadata": {},
     "output_type": "execute_result"
    }
   ],
   "source": [
    "#len(soup.find_all('items')[0].text[2:].split(\"Y\")) -1"
   ]
  },
  {
   "cell_type": "code",
   "execution_count": 197,
   "metadata": {},
   "outputs": [
    {
     "data": {
      "text/plain": [
       "[<items><item><datekind>01</datekind><datename>어린이날</datename><isholiday>Y</isholiday><locdate>20190505</locdate><seq>1</seq></item><item><datekind>01</datekind><datename>대체공휴일</datename><isholiday>Y</isholiday><locdate>20190506</locdate><seq>1</seq></item><item><datekind>01</datekind><datename>부처님오신날</datename><isholiday>Y</isholiday><locdate>20190512</locdate><seq>1</seq></item></items>]"
      ]
     },
     "execution_count": 197,
     "metadata": {},
     "output_type": "execute_result"
    }
   ],
   "source": [
    "#datename = [each for each in soup.find_all('items')]\n",
    "#datename"
   ]
  },
  {
   "cell_type": "code",
   "execution_count": 210,
   "metadata": {},
   "outputs": [
    {
     "name": "stdout",
     "output_type": "stream",
     "text": [
      "['어린이날'] ['201905051']\n",
      "['어린이날', '대체공휴일'] ['201905051', '201905061']\n",
      "['어린이날', '대체공휴일', '부처님오신날'] ['201905051', '201905061', '201905121']\n"
     ]
    }
   ],
   "source": [
    "#datenames = []\n",
    "#locdates = []\n",
    "#num = len(soup.find_all('items')[0].text[2:].split(\"Y\")) -1\n",
    "#for i in range(num):\n",
    "    #datename = [each for each in [soup.find_all('item')[i].text[2:][:-10]]]\n",
    "    #locdate = [each for each in [soup.find_all('item')[i].text[-9:]]]\n",
    "    #datenames.extend(datename)\n",
    "    #locdates.extend(locdate)\n",
    "        \n",
    "    #print(datenames, locdates)"
   ]
  },
  {
   "cell_type": "code",
   "execution_count": 211,
   "metadata": {},
   "outputs": [
    {
     "data": {
      "text/html": [
       "<div>\n",
       "<style scoped>\n",
       "    .dataframe tbody tr th:only-of-type {\n",
       "        vertical-align: middle;\n",
       "    }\n",
       "\n",
       "    .dataframe tbody tr th {\n",
       "        vertical-align: top;\n",
       "    }\n",
       "\n",
       "    .dataframe thead th {\n",
       "        text-align: right;\n",
       "    }\n",
       "</style>\n",
       "<table border=\"1\" class=\"dataframe\">\n",
       "  <thead>\n",
       "    <tr style=\"text-align: right;\">\n",
       "      <th></th>\n",
       "      <th>datename</th>\n",
       "      <th>locdate</th>\n",
       "    </tr>\n",
       "  </thead>\n",
       "  <tbody>\n",
       "    <tr>\n",
       "      <td>0</td>\n",
       "      <td>어린이날</td>\n",
       "      <td>201905051</td>\n",
       "    </tr>\n",
       "    <tr>\n",
       "      <td>1</td>\n",
       "      <td>대체공휴일</td>\n",
       "      <td>201905061</td>\n",
       "    </tr>\n",
       "    <tr>\n",
       "      <td>2</td>\n",
       "      <td>부처님오신날</td>\n",
       "      <td>201905121</td>\n",
       "    </tr>\n",
       "  </tbody>\n",
       "</table>\n",
       "</div>"
      ],
      "text/plain": [
       "  datename    locdate\n",
       "0     어린이날  201905051\n",
       "1    대체공휴일  201905061\n",
       "2   부처님오신날  201905121"
      ]
     },
     "execution_count": 211,
     "metadata": {},
     "output_type": "execute_result"
    }
   ],
   "source": [
    "#holidays = pd.DataFrame({'datename':datenames, \"locdate\":locdates})\n",
    "#holidays"
   ]
  },
  {
   "cell_type": "code",
   "execution_count": 51,
   "metadata": {},
   "outputs": [],
   "source": [
    "#xtree.text"
   ]
  },
  {
   "cell_type": "code",
   "execution_count": 12,
   "metadata": {},
   "outputs": [],
   "source": [
    "#import xml.etree.ElementTree as ET"
   ]
  },
  {
   "cell_type": "code",
   "execution_count": 50,
   "metadata": {
    "scrolled": false
   },
   "outputs": [
    {
     "data": {
      "text/plain": [
       "'어린이날'"
      ]
     },
     "execution_count": 50,
     "metadata": {},
     "output_type": "execute_result"
    }
   ],
   "source": [
    "#xtree[1][0][0][1].text"
   ]
  },
  {
   "cell_type": "code",
   "execution_count": 15,
   "metadata": {
    "scrolled": true
   },
   "outputs": [
    {
     "data": {
      "text/plain": [
       "'20190505'"
      ]
     },
     "execution_count": 15,
     "metadata": {},
     "output_type": "execute_result"
    }
   ],
   "source": [
    "#xtree[1][0][0][3].text"
   ]
  },
  {
   "cell_type": "code",
   "execution_count": 24,
   "metadata": {},
   "outputs": [],
   "source": [
    "#xtree[1][0][0].text"
   ]
  },
  {
   "cell_type": "code",
   "execution_count": 39,
   "metadata": {},
   "outputs": [
    {
     "ename": "AttributeError",
     "evalue": "'NoneType' object has no attribute 'text'",
     "output_type": "error",
     "traceback": [
      "\u001b[1;31m---------------------------------------------------------------------------\u001b[0m",
      "\u001b[1;31mAttributeError\u001b[0m                            Traceback (most recent call last)",
      "\u001b[1;32m<ipython-input-39-05e4606828d8>\u001b[0m in \u001b[0;36m<module>\u001b[1;34m\u001b[0m\n\u001b[0;32m      1\u001b[0m \u001b[0mrows\u001b[0m \u001b[1;33m=\u001b[0m \u001b[1;33m[\u001b[0m\u001b[1;33m]\u001b[0m\u001b[1;33m\u001b[0m\u001b[1;33m\u001b[0m\u001b[0m\n\u001b[0;32m      2\u001b[0m \u001b[1;32mfor\u001b[0m \u001b[0mnode\u001b[0m \u001b[1;32min\u001b[0m \u001b[0mxtree\u001b[0m\u001b[1;33m[\u001b[0m\u001b[1;36m1\u001b[0m\u001b[1;33m]\u001b[0m\u001b[1;33m[\u001b[0m\u001b[1;36m0\u001b[0m\u001b[1;33m]\u001b[0m\u001b[1;33m[\u001b[0m\u001b[1;36m0\u001b[0m\u001b[1;33m]\u001b[0m\u001b[1;33m:\u001b[0m\u001b[1;33m\u001b[0m\u001b[1;33m\u001b[0m\u001b[0m\n\u001b[1;32m----> 3\u001b[1;33m     \u001b[0mn_name\u001b[0m \u001b[1;33m=\u001b[0m \u001b[0mnode\u001b[0m\u001b[1;33m.\u001b[0m\u001b[0mfind\u001b[0m\u001b[1;33m(\u001b[0m\u001b[1;34m'dateName'\u001b[0m\u001b[1;33m)\u001b[0m\u001b[1;33m.\u001b[0m\u001b[0mtext\u001b[0m\u001b[1;33m.\u001b[0m\u001b[0mextract\u001b[0m\u001b[1;33m(\u001b[0m\u001b[1;33m)\u001b[0m\u001b[1;33m\u001b[0m\u001b[1;33m\u001b[0m\u001b[0m\n\u001b[0m\u001b[0;32m      4\u001b[0m     \u001b[0mn_date\u001b[0m \u001b[1;33m=\u001b[0m \u001b[0mnode\u001b[0m\u001b[1;33m.\u001b[0m\u001b[0mfind\u001b[0m\u001b[1;33m(\u001b[0m\u001b[1;34m'locdate'\u001b[0m\u001b[1;33m)\u001b[0m\u001b[1;33m.\u001b[0m\u001b[0mtext\u001b[0m\u001b[1;33m\u001b[0m\u001b[1;33m\u001b[0m\u001b[0m\n\u001b[0;32m      5\u001b[0m     \u001b[0mrows\u001b[0m\u001b[1;33m.\u001b[0m\u001b[0mappend\u001b[0m\u001b[1;33m(\u001b[0m\u001b[1;33m{\u001b[0m\u001b[1;34m'name'\u001b[0m \u001b[1;33m:\u001b[0m \u001b[0mn_name\u001b[0m\u001b[1;33m,\u001b[0m \u001b[1;34m'date'\u001b[0m\u001b[1;33m:\u001b[0m \u001b[0mn_date\u001b[0m\u001b[1;33m}\u001b[0m\u001b[1;33m)\u001b[0m\u001b[1;33m\u001b[0m\u001b[1;33m\u001b[0m\u001b[0m\n",
      "\u001b[1;31mAttributeError\u001b[0m: 'NoneType' object has no attribute 'text'"
     ]
    }
   ],
   "source": [
    "#rows = []\n",
    "#for node in xtree[1][0][0]:\n",
    "    #n_name = node.find('dateName').text.extract()\n",
    "    #n_date = node.find('locdate').text\n",
    "    #rows.append({'name' : n_name, 'date': n_date})"
   ]
  },
  {
   "cell_type": "code",
   "execution_count": null,
   "metadata": {},
   "outputs": [],
   "source": []
  }
 ],
 "metadata": {
  "kernelspec": {
   "display_name": "Python 3",
   "language": "python",
   "name": "python3"
  },
  "language_info": {
   "codemirror_mode": {
    "name": "ipython",
    "version": 3
   },
   "file_extension": ".py",
   "mimetype": "text/x-python",
   "name": "python",
   "nbconvert_exporter": "python",
   "pygments_lexer": "ipython3",
   "version": "3.7.4"
  }
 },
 "nbformat": 4,
 "nbformat_minor": 2
}
